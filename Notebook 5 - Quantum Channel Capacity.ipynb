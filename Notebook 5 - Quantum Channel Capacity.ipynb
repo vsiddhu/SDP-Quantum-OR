{
 "cells": [
  {
   "cell_type": "markdown",
   "metadata": {},
   "source": [
    "# Quantum Channel Capacity"
   ]
  },
  {
   "cell_type": "markdown",
   "metadata": {},
   "source": [
    "Date : December 15, 2021\n",
    "\n",
    "This notebook contains material supporting a paper, currently titled *Five Starter Pieces: Quantum Information Science via Semi-definite Programs*, by Vikesh Siddhu (vsiddhu@protonmail.com) and Sridhar Tayur (stayur@cmu.edu). The paper is available on this **[arXiv](http://arxiv.org/abs/2112.08276)** link. The arXiv paper is released there is under the **[arXiv.org perpetual, non-exclusive license](https://arxiv.org/licenses/nonexclusive-distrib/1.0/license.html)**, and this code is released under the **[MIT license](https://opensource.org/licenses/MIT)**.\n",
    "\n",
    "This notebook depends upon various packages including [numpy](https://numpy.org/) >= 1.19.5, [picos](https://picos-api.gitlab.io/picos/index.html) >= 2.2.55, and [cvxopt](http://cvxopt.org/) >= 1.2.5.\n",
    "    \n",
    "[![Open In Colab](https://colab.research.google.com/assets/colab-badge.svg)](https://colab.research.google.com/github/vsiddhu/SDP-Quantum-OR/blob/master/Notebook%205%20-%20Quantum%20Channel%20Capacity.ipynb)"
   ]
  },
  {
   "cell_type": "markdown",
   "metadata": {},
   "source": [
    "### Introduction\n",
    "Any linear map $\\mathcal{M}:\\hat{ \\mathcal{H}_a} \\mapsto \\hat{ \\mathcal{H}_b}$ has a Choi-Jamiolkowski representation\n",
    "$$\n",
    "\\mathcal{J}(\\mathcal{M})_{ba} = \\mathcal{M} \\otimes \\mathcal{I}_a (\\gamma)\n",
    "$$\n",
    "where $\\gamma = \\sum_{ij} | ii \\rangle \\langle  jj|$.\n",
    "\n",
    "A quantum channel $\\mathcal{B}:\\hat{ \\mathcal{H}_a} \\mapsto \\hat{ \\mathcal{H}_b}$ with complementary channel\n",
    "$\\mathcal{B}^c:\\hat{ \\mathcal{H}_a} \\mapsto \\hat{ \\mathcal{H}_c}$ is $\\epsilon$ degradable when there is another quantum channel $\\mathcal{C}:\\hat{ \\mathcal{H}_b} \\mapsto \\hat{ \\mathcal{H}_c}$ such that,\n",
    "\n",
    "$$\n",
    "|| \\mathcal{C} \\circ \\mathcal{B} - \\mathcal{B}^c ||_{\\diamond} \\leq \\epsilon, \n",
    "$$\n",
    "\n",
    "where $|| \\mathcal{M} ||_{\\diamond}$ is the diamond norm of a map. Then the smallest $\\epsilon$ for which $\\mathcal{B}$ is $\\epsilon$ degradable is given by twice the optimum value of the semi-definite program"
   ]
  },
  {
   "cell_type": "markdown",
   "metadata": {},
   "source": [
    " \\begin{align}\n",
    " \\begin{aligned}\n",
    "   \\text{mininimize} \\; & \\mu &\\\\\n",
    "   \\text{subject to} \\; & \\rm Tr_{c}(Z_{ca}) \\preceq \\mu I_a, &\\\\\n",
    "  & \\rm Tr_{c}(J_{cb}(\\mathcal{C})) = I_b, &\\\\\n",
    "  & Z_{ca} \\succeq \\mathcal{J}_{ca}(\\mathcal{B}^c) - \\mathcal{J}_{ca}(\\mathcal{C} \\circ \\mathcal{B}), &\\\\\n",
    "  & Z_{ca} \\succeq 0, & \\\\\n",
    "  \\text{and} \\; & \\mathcal{J}_{cb}(\\mathcal{C}) \\succeq 0 &,\n",
    "  \\end{aligned}\n",
    "  \\end{align}\n",
    "  \n",
    "  where $I_a$ and $I_b$ are the identity on $\\mathcal{H}_a$ and $\\mathcal{H}_b$ respectively.\n",
    "In what follows, consider various examples of this SDP. "
   ]
  },
  {
   "cell_type": "markdown",
   "metadata": {},
   "source": [
    "If $\\mathcal{B}$ is $\\epsilon$-degradable and has channel coherent information $\\mathcal{Q}^{(1)}(\\mathcal{B})$,\n",
    "then \n",
    "\n",
    "\\begin{equation}\n",
    "|\\mathcal{Q}(\\mathcal{B}) - \\mathcal{Q}^{(1)}(\\mathcal{B})| \n",
    "    \\leq \\epsilon \\log(d_c - 1)/2 + \\epsilon \\log(d_c) + h(\\epsilon/2) + (1 + \\epsilon/2)h(2/(2+ \\epsilon))\n",
    "\\end{equation}\n",
    "where $h(x) = -\\big( x \\log x +(1-x) \\log (1+x) \\big)$ is the binary entropy function."
   ]
  },
  {
   "cell_type": "code",
   "execution_count": 1,
   "metadata": {},
   "outputs": [
    {
     "name": "stdout",
     "output_type": "stream",
     "text": [
      "Populating the interactive namespace from numpy and matplotlib\n"
     ]
    }
   ],
   "source": [
    "%pylab inline"
   ]
  },
  {
   "cell_type": "code",
   "execution_count": 2,
   "metadata": {},
   "outputs": [],
   "source": [
    "import HelperFunctionsforNotebook5 as crp\n",
    "import picos as pic\n",
    "import cvxopt as cvx"
   ]
  },
  {
   "cell_type": "code",
   "execution_count": 3,
   "metadata": {},
   "outputs": [
    {
     "name": "stdout",
     "output_type": "stream",
     "text": [
      "Solvers supported on this installation of picos: dict_keys(['cplex', 'cvxopt', 'ecos', 'glpk', 'gurobi', 'mosek', 'mskfsn', 'scip', 'smcp'])\n"
     ]
    }
   ],
   "source": [
    "print('Solvers supported on this installation of picos:', pic.solvers.all_solvers().keys())\n"
   ]
  },
  {
   "cell_type": "code",
   "execution_count": 4,
   "metadata": {},
   "outputs": [
    {
     "name": "stdout",
     "output_type": "stream",
     "text": [
      "Solvers available to picos on this machine : ['cvxopt', 'mosek', 'mskfsn']\n"
     ]
    }
   ],
   "source": [
    "print('Solvers available to picos on this machine :', pic.solvers.available_solvers())"
   ]
  },
  {
   "cell_type": "code",
   "execution_count": 5,
   "metadata": {},
   "outputs": [],
   "source": [
    "# For Google Colab use, commands installing packages\n",
    "try:\n",
    "  import google.colab\n",
    "  IN_COLAB = True\n",
    "except:\n",
    "  IN_COLAB = False\n",
    "\n",
    "# Let's start with Pyomo\n",
    "if IN_COLAB:\n",
    "    !pip install -q picos\n",
    "    !pip install -q cvxopt"
   ]
  },
  {
   "cell_type": "markdown",
   "metadata": {},
   "source": [
    "### Example 1\n",
    "Compute smallest $\\epsilon$ for which the qubit dephasing channel \n",
    "\\begin{equation}\n",
    "    \\mathcal{F}_{q}(\\rho) = (1-q) \\rho + q Z \\rho Z\n",
    "\\end{equation}\n",
    "$0 \\leq q \\leq 1$ is $\\epsilon$ degradable. "
   ]
  },
  {
   "cell_type": "code",
   "execution_count": 6,
   "metadata": {},
   "outputs": [],
   "source": [
    "q = np.random.rand()\n",
    "\n",
    "#Kraus Operators for qubit dephasing channel\n",
    "k1 = np.sqrt(1-q)*np.array([[1.,0.],[0.,1.]])\n",
    "k2 = np.sqrt(q)*np.array([[1.,0.],[0.,-1.]])\n",
    "krsLstF = [k1,k2]\n",
    "\n",
    "(dc,db,da) = np.shape(krsLstF)\n",
    "\n",
    "#Choi-Jamiolkowski representations of channel and its complement \n",
    "(jbaF, jcaF) = crp.krausToChoiJ(krsLstF)\n"
   ]
  },
  {
   "cell_type": "code",
   "execution_count": 7,
   "metadata": {},
   "outputs": [],
   "source": [
    "#Constants\n",
    "#----------\n",
    "JbaFPic = pic.Constant(\"J(B)_ba\", jbaF)\n",
    "JcaFPic = pic.Constant(\"J(B)_ca\", jcaF)\n",
    "\n",
    "iMatA = pic.Constant('Ia', np.eye(da))\n",
    "iMatB = pic.Constant('Ib', np.eye(db))\n",
    "shpCA = (dc*da,dc*da)\n",
    "shpCB = (dc*db,dc*db)\n",
    "\n",
    "\n",
    "#Variables\n",
    "#----------\n",
    "ZPic = pic.HermitianVariable(\"Zca\", shpCA)\n",
    "JPic = pic.HermitianVariable(\"Jcb\", shpCB)\n",
    "mu = pic.RealVariable(\"mu\")\n"
   ]
  },
  {
   "cell_type": "code",
   "execution_count": 8,
   "metadata": {},
   "outputs": [
    {
     "data": {
      "text/plain": [
       "<4×4 Complex LMI Constraint: Zca ≽ J(B)_ca - shuffled(shuffled(Jcb,ikjl,(2,2,2,2),C)·shuffled(J(B)_ba,ikjl,(2,2,2,2),C),ikjl,(2,2,2,2),C)>"
      ]
     },
     "execution_count": 8,
     "metadata": {},
     "output_type": "execute_result"
    }
   ],
   "source": [
    "prob1P = pic.Problem()\n",
    "\n",
    "#Constraint\n",
    "#----------\n",
    "prob1P.add_constraint(ZPic >> 0)\n",
    "prob1P.add_constraint(JPic >> 0)\n",
    "\n",
    "ZaPic = pic.partial_trace(ZPic,subsystems=(0), dimensions=(dc,da))\n",
    "JbPic = pic.partial_trace(JPic,subsystems=(0), dimensions=(dc,db))\n",
    "\n",
    "prob1P.add_constraint(ZaPic << mu*iMatA)\n",
    "prob1P.add_constraint(JbPic == iMatB)\n",
    "\n",
    "JcaPic = crp.choiJOfChanInSeriesPic(JbaFPic,JPic,da,db,dc)\n",
    "prob1P.add_constraint(ZPic >> JcaFPic-JcaPic)"
   ]
  },
  {
   "cell_type": "code",
   "execution_count": 9,
   "metadata": {},
   "outputs": [
    {
     "name": "stdout",
     "output_type": "stream",
     "text": [
      "--------------------------------------------------------------------------------------------------\n",
      "Complex Semidefinite Program\n",
      "  minimize mu\n",
      "  over\n",
      "    4×4 hermitian variable Jcb, Zca\n",
      "    1×1 real variable mu\n",
      "  subject to\n",
      "    Zca ≽ 0\n",
      "    Jcb ≽ 0\n",
      "    Zca.{tr([2×2])⊗[2×2]} ≼ mu·Ia\n",
      "    Jcb.{tr([2×2])⊗[2×2]} = Ib\n",
      "    Zca ≽ J(B)_ca -\n",
      "      shuffled(shuffled(Jcb,ikjl,(2,2,2,2),C)·shuffled(J(B)_ba,ikjl,(2,2,2,2),C),ikjl,(2,2,2,2),C)\n",
      "--------------------------------------------------------------------------------------------------\n"
     ]
    }
   ],
   "source": [
    "#Objective\n",
    "#----------\n",
    "prob1P.set_objective('min',mu)\n",
    "\n",
    "#User readable view of the problem being composed in PICOS'\n",
    "print(prob1P)"
   ]
  },
  {
   "cell_type": "code",
   "execution_count": 10,
   "metadata": {},
   "outputs": [
    {
     "data": {
      "text/plain": [
       "<primal feasible solution pair (claimed optimal) from cvxopt>"
      ]
     },
     "execution_count": 10,
     "metadata": {},
     "output_type": "execute_result"
    }
   ],
   "source": [
    "#Solve the problem using cvxopt as a solver\n",
    "prob1P.solve(verbosity=False,solver='cvxopt')"
   ]
  },
  {
   "cell_type": "code",
   "execution_count": 11,
   "metadata": {},
   "outputs": [
    {
     "name": "stdout",
     "output_type": "stream",
     "text": [
      "6.20984358392016e-10\n"
     ]
    }
   ],
   "source": [
    "#Solver claims to have found optimal saolution\n",
    "mu1P =  prob1P.value\n",
    "eps1 = 2*mu1P\n",
    "print(eps1)"
   ]
  },
  {
   "cell_type": "code",
   "execution_count": 12,
   "metadata": {},
   "outputs": [
    {
     "name": "stdout",
     "output_type": "stream",
     "text": [
      "Least epsilon for which the dephasing channel is epsilon degradable\n",
      "Using SDP =  6.20984358392016e-10\n",
      "Difference between the SDP value and the algberaic values 6.20984358392016e-10\n"
     ]
    }
   ],
   "source": [
    "print('Least epsilon for which the dephasing channel is epsilon degradable')\n",
    "print('Using SDP = ', eps1)\n",
    "print('Difference between the SDP value and the algberaic values', abs(eps1 - 0))"
   ]
  },
  {
   "cell_type": "markdown",
   "metadata": {},
   "source": [
    "The qubit dephasing channel, \n",
    "\n",
    "$$\\mathcal{F}_{q}(\\rho) = (1-q) \\rho + q Z \\rho Z, $$\n",
    "\n",
    "is degradable for any $0 \\leq q \\leq 1$. This degradability implies that \n",
    "$\\mathcal{F}_{q}$ is $\\epsilon$ degradable for $\\epsilon = 0$, as confirmed by\n",
    "the numerics above. Given $\\epsilon = 0$, the bound\n",
    "\n",
    "\\begin{equation}\n",
    "|\\mathcal{Q}(\\mathcal{F}_q) - \\mathcal{Q}^{(1)}(\\mathcal{F}_q)| \n",
    "    \\leq \\epsilon \\log(d_c - 1)/2 + \\epsilon \\log(d_c) + h(\\epsilon/2) + (1 + \\epsilon/2)h(2/(2+ \\epsilon))\n",
    "\\end{equation}\n",
    "\n",
    "trivially evaluates to \n",
    "\\begin{equation}\n",
    "   |\\mathcal{Q}(\\mathcal{F}_q) - \\mathcal{Q}^{(1)}(\\mathcal{F}_q)| =0\n",
    "\\end{equation}\n",
    "\n",
    "Using the above equation, along with the expression for the channel coherent information, we get \n",
    "\\begin{equation}\n",
    "    \\mathcal{Q}(\\mathcal{F}_q) = \\mathcal{Q}^{(1)}(\\mathcal{F}_{q}) = 1 - h(q).\n",
    "\\end{equation}"
   ]
  },
  {
   "cell_type": "markdown",
   "metadata": {},
   "source": [
    "### Example 2\n",
    "Compute smallest $\\epsilon$ for which the qubit erasure channel \n",
    "\\begin{equation}\n",
    "    \\mathcal{E}_{p}(\\rho) = (1-p) \\rho + p \\rm Tr(\\rho) |e\\rangle\\langle e|\n",
    "\\end{equation}\n",
    "with erasure probability $0 \\leq p \\leq 1$ is $\\epsilon$ degradable. "
   ]
  },
  {
   "cell_type": "code",
   "execution_count": 13,
   "metadata": {},
   "outputs": [],
   "source": [
    "#Consider a random erasure probability less than half\n",
    "p = np.random.rand()/2\n",
    "\n",
    "#Kraus Operators for Erasure\n",
    "k1 = np.sqrt(p)*np.array([[0.,0.],[0.,0.],[1.,0.]])\n",
    "k2 = np.sqrt(p)*np.array([[0.,0.],[0.,0.],[0.,1.]])\n",
    "k3 = np.sqrt(1-p)*np.array([[1.,0.],[0.,1.],[0.,0.]])\n",
    "krsLstE = [k1,k2,k3]\n",
    "\n",
    "(dc,db,da) = np.shape(krsLstE)\n",
    "\n",
    "#Choi-Jamiolkowski representations of channel and its complement \n",
    "(jbaE, jcaE) = crp.krausToChoiJ(krsLstE)"
   ]
  },
  {
   "cell_type": "code",
   "execution_count": 14,
   "metadata": {},
   "outputs": [],
   "source": [
    "#Constants\n",
    "#----------\n",
    "JbaEPic = pic.Constant(\"J(B)_ba\", jbaE)\n",
    "JcaEPic = pic.Constant(\"J(B)_ca\", jcaE)\n",
    "iMatA = pic.Constant('Ia', np.eye(da))\n",
    "iMatB = pic.Constant('Ib', np.eye(db))\n",
    "shpCA = (dc*da,dc*da)\n",
    "shpCB = (dc*db,dc*db)\n",
    "\n",
    "#Variables\n",
    "#----------\n",
    "ZPic = pic.HermitianVariable(\"Zca\", shpCA)\n",
    "JPic = pic.HermitianVariable(\"Jcb\", shpCB)\n",
    "mu = pic.RealVariable(\"mu\")\n"
   ]
  },
  {
   "cell_type": "code",
   "execution_count": 15,
   "metadata": {},
   "outputs": [],
   "source": [
    "prob2P = pic.Problem()"
   ]
  },
  {
   "cell_type": "code",
   "execution_count": 16,
   "metadata": {},
   "outputs": [
    {
     "data": {
      "text/plain": [
       "<6×6 Complex LMI Constraint: Zca ≽ J(B)_ca - reshaped(shuffled(shuffled(Jcb,ikjl,(3,3,3,3),C)·reshaped(shuffled(J(B)_ba,ikjl,(3,2,3,2),C)ᵀ, 4×9)ᵀ,ikjl,(3,3,2,2),C)ᵀ, 6×6)ᵀ>"
      ]
     },
     "execution_count": 16,
     "metadata": {},
     "output_type": "execute_result"
    }
   ],
   "source": [
    "#Constraint\n",
    "#----------\n",
    "prob2P.add_constraint(ZPic >> 0)\n",
    "prob2P.add_constraint(JPic >> 0)\n",
    "\n",
    "ZaPic = pic.partial_trace(ZPic,subsystems=(0), dimensions=(dc,da))\n",
    "JbPic = pic.partial_trace(JPic,subsystems=(0), dimensions=(dc,db))\n",
    "\n",
    "prob2P.add_constraint(ZaPic << mu*iMatA)\n",
    "prob2P.add_constraint(JbPic == iMatB)\n",
    "\n",
    "JcaPic = crp.choiJOfChanInSeriesPic(JbaEPic,JPic,da,db,dc)\n",
    "prob2P.add_constraint(ZPic >> JcaEPic-JcaPic)\n"
   ]
  },
  {
   "cell_type": "code",
   "execution_count": 17,
   "metadata": {},
   "outputs": [
    {
     "name": "stdout",
     "output_type": "stream",
     "text": [
      "----------------------------------------------------------------------------------------------------\n",
      "Complex Semidefinite Program\n",
      "  minimize mu\n",
      "  over\n",
      "    6×6 hermitian variable Zca\n",
      "    9×9 hermitian variable Jcb\n",
      "    1×1 real variable mu\n",
      "  subject to\n",
      "    Zca ≽ 0\n",
      "    Jcb ≽ 0\n",
      "    Zca.{tr([3×3])⊗[2×2]} ≼ mu·Ia\n",
      "    Jcb.{tr([3×3])⊗[3×3]} = Ib\n",
      "    Zca ≽ J(B)_ca -\n",
      "      reshaped(shuffled(shuffled(Jcb,ikjl,(3,3,3,3),C)·reshaped(shuffled(J(B)_ba,ikjl,(3,2,3,2),C)ᵀ,\n",
      "      4×9)ᵀ,ikjl,(3,3,2,2),C)ᵀ, 6×6)ᵀ\n",
      "----------------------------------------------------------------------------------------------------\n"
     ]
    }
   ],
   "source": [
    "#Objective\n",
    "#----------\n",
    "prob2P.set_objective('min',mu)\n",
    "\n",
    "#User readable view of the problem being composed in PICOS'\n",
    "print(prob2P)"
   ]
  },
  {
   "cell_type": "code",
   "execution_count": 18,
   "metadata": {},
   "outputs": [
    {
     "data": {
      "text/plain": [
       "<primal feasible solution pair (claimed optimal) from cvxopt>"
      ]
     },
     "execution_count": 18,
     "metadata": {},
     "output_type": "execute_result"
    }
   ],
   "source": [
    "#Solve the problem using cvxopt as a solver\n",
    "prob2P.solve(verbosity=False,solver='cvxopt')"
   ]
  },
  {
   "cell_type": "code",
   "execution_count": 19,
   "metadata": {},
   "outputs": [],
   "source": [
    "#Solver claims to have found optimal saolution\n",
    "mu2P =  prob2P.value\n",
    "eps2 = 2*mu2P"
   ]
  },
  {
   "cell_type": "code",
   "execution_count": 20,
   "metadata": {},
   "outputs": [
    {
     "name": "stdout",
     "output_type": "stream",
     "text": [
      "Using SDP =  1.2914823168265619e-09\n",
      "Bound on difference between capacity and coherent information = 4.3982699098789774e-08\n"
     ]
    }
   ],
   "source": [
    "print('Using SDP = ', eps2)\n",
    "print('Bound on difference between capacity and coherent information =', crp.boundFunc(eps2,dc))"
   ]
  },
  {
   "cell_type": "markdown",
   "metadata": {},
   "source": [
    "The qubit erasure channel $\\mathcal{E}_{p}$ has coherent information \n",
    "\n",
    "\\begin{equation}\n",
    "    \\mathcal{Q}^{(1)}(\\mathcal{E}_{p}) = \\max(1 - 2p,0).\n",
    "\\end{equation}\n",
    "\n",
    "The channel is degradable for erasure probability $0 \\leq p \\leq 1/2$. This degradability implies that $\\mathcal{E}_{p}$ is $\\epsilon$ degradable for $\\epsilon = 0$, as confirmed by the numerics above when $0 \\leq p \\leq 1/2$. For values of $0 \\leq p \\leq 1/2$, the bound\n",
    "\n",
    "\\begin{equation}\n",
    "|\\mathcal{Q}(\\mathcal{E}_p) - \\mathcal{Q}^{(1)}(\\mathcal{E}_{p})| \n",
    "    \\leq \\epsilon \\log(d_c - 1)/2 + \\epsilon \\log(d_c) + h(\\epsilon/2) + (1 + \\epsilon/2)h(2/(2+ \\epsilon))\n",
    "\\end{equation}\n",
    "\n",
    "trivially evaluates to \n",
    "\\begin{equation}\n",
    "   |\\mathcal{Q}(\\mathcal{E}_p) - \\mathcal{Q}^{(1)}(\\mathcal{E}_p)| =0\n",
    "\\end{equation}\n",
    "For $1/2 \\leq p \\leq 1$, $\\epsilon$ is non-zero,the bound is also non-zero. It turns out that even for $1/2 \\leq p \\leq 1$, $\\mathcal{Q}(\\mathcal{E}_p) = \\mathcal{Q}^{(1)}(\\mathcal{E}_p)$, due to anti-degradability of the\n",
    "erasure channel for erasure probability $1/2 \\leq p \\leq 1$."
   ]
  },
  {
   "cell_type": "markdown",
   "metadata": {},
   "source": [
    "### Example 3\n",
    "Compute smallest $\\epsilon$ for which the qubit depolarizing channel \n",
    "\\begin{equation}\n",
    "    \\Delta(\\rho) = (1-p) \\rho + \\frac{p}{3} (X \\rho X + Y \\rho Y  + Z \\rho Z),\n",
    "\\end{equation}\n",
    "$0 \\leq p \\leq 1$ is $\\epsilon$ degradable. The depolarizing channel above can also be written using the parameter $\\lambda = 1 - 4p/3$ as\n",
    "\\begin{equation}\n",
    "    \\Delta(\\rho) = \\lambda \\rho + \\frac{(1-\\lambda)}{2} \\rm Tr(\\rho) I.\n",
    "\\end{equation}\n"
   ]
  },
  {
   "cell_type": "code",
   "execution_count": 21,
   "metadata": {},
   "outputs": [],
   "source": [
    "#Example 3\n",
    "p = np.random.rand()/10\n",
    "\n",
    "#Kraus Operators for Depolarizing Channel\n",
    "k1 = np.sqrt(1-p)*np.array([[1.,0.],[0.,1.]])\n",
    "k2 = np.sqrt(p/3)*np.array([[0.,1.],[1.,0.]])\n",
    "k3 = np.sqrt(p/3)*np.array([[0.,-1j],[1j,0.]])\n",
    "k4 = np.sqrt(p/3)*np.array([[1.,0.],[0.,-1.]])\n",
    "\n",
    "krsLstD = [k1,k2,k3,k4]\n",
    "(dc,db,da) = np.shape(krsLstD)\n",
    "\n",
    "(jbaD, jcaD) = crp.krausToChoiJ(krsLstD)"
   ]
  },
  {
   "cell_type": "code",
   "execution_count": 22,
   "metadata": {},
   "outputs": [],
   "source": [
    "#Constants\n",
    "#----------\n",
    "JbaDPic = pic.Constant(\"J(B)_ba\", jbaD)\n",
    "JcaDPic = pic.Constant(\"J(B)_ca\", jcaD)\n",
    "iMatA = pic.Constant('Ia', np.eye(da))\n",
    "iMatB = pic.Constant('Ib', np.eye(db))\n",
    "\n",
    "#Variables\n",
    "#----------\n",
    "shpCA = (dc*da,dc*da)\n",
    "shpCB = (dc*db,dc*db)\n",
    "\n",
    "ZPic = pic.HermitianVariable(\"Zca\", shpCA)\n",
    "JPic = pic.HermitianVariable(\"Jcb\", shpCB)\n",
    "mu = pic.RealVariable(\"mu\")"
   ]
  },
  {
   "cell_type": "code",
   "execution_count": 23,
   "metadata": {},
   "outputs": [],
   "source": [
    "prob3P = pic.Problem()"
   ]
  },
  {
   "cell_type": "code",
   "execution_count": 24,
   "metadata": {},
   "outputs": [
    {
     "data": {
      "text/plain": [
       "<8×8 Complex LMI Constraint: Zca ≽ J(B)_ca - reshaped(shuffled(reshaped(shuffled(Jcb,ikjl,(4,2,4,2),C)ᵀ, 4×16)ᵀ·shuffled(J(B)_ba,ikjl,(2,2,2,2),C),ikjl,(4,4,2,2),C)ᵀ, 8×8)ᵀ>"
      ]
     },
     "execution_count": 24,
     "metadata": {},
     "output_type": "execute_result"
    }
   ],
   "source": [
    "#Constraint\n",
    "#----------\n",
    "prob3P.add_constraint(ZPic >> 0)\n",
    "prob3P.add_constraint(JPic >> 0)\n",
    "\n",
    "ZaPic = pic.partial_trace(ZPic,subsystems=(0), dimensions=(dc,da))\n",
    "JbPic = pic.partial_trace(JPic,subsystems=(0), dimensions=(dc,db))\n",
    "\n",
    "prob3P.add_constraint(ZaPic << mu*iMatA)\n",
    "prob3P.add_constraint(JbPic == iMatB)\n",
    "\n",
    "JcaPic = crp.choiJOfChanInSeriesPic(JbaDPic,JPic,da,db,dc)\n",
    "prob3P.add_constraint(ZPic >> JcaDPic-JcaPic)\n"
   ]
  },
  {
   "cell_type": "code",
   "execution_count": 25,
   "metadata": {},
   "outputs": [
    {
     "name": "stdout",
     "output_type": "stream",
     "text": [
      "-------------------------------------------------------------------\n",
      "Complex Semidefinite Program\n",
      "  minimize mu\n",
      "  over\n",
      "    8×8 hermitian variable Jcb, Zca\n",
      "    1×1 real variable mu\n",
      "  subject to\n",
      "    Zca ≽ 0\n",
      "    Jcb ≽ 0\n",
      "    Zca.{tr([4×4])⊗[2×2]} ≼ mu·Ia\n",
      "    Jcb.{tr([4×4])⊗[2×2]} = Ib\n",
      "    Zca ≽ J(B)_ca -\n",
      "      reshaped(shuffled(reshaped(shuffled(Jcb,ikjl,(4,2,4,2),C)ᵀ,\n",
      "      4×16)ᵀ·shuffled(J(B)_ba,ikjl,(2,2,2,2),C),ikjl,(4,4,2,2),C)ᵀ,\n",
      "      8×8)ᵀ\n",
      "-------------------------------------------------------------------\n"
     ]
    }
   ],
   "source": [
    "#Objective\n",
    "#----------\n",
    "prob3P.set_objective('min',mu)\n",
    "\n",
    "#User readable view of the problem being composed in PICOS'\n",
    "print(prob3P)"
   ]
  },
  {
   "cell_type": "code",
   "execution_count": 26,
   "metadata": {},
   "outputs": [
    {
     "data": {
      "text/plain": [
       "<primal feasible solution pair (claimed optimal) from cvxopt>"
      ]
     },
     "execution_count": 26,
     "metadata": {},
     "output_type": "execute_result"
    }
   ],
   "source": [
    "#Solve the problem using cvxopt as a solver\n",
    "prob3P.solve(verbosity=False,solver='cvxopt')"
   ]
  },
  {
   "cell_type": "code",
   "execution_count": 27,
   "metadata": {},
   "outputs": [],
   "source": [
    "#Solver claims to have found optimal solution\n",
    "mu3P =  prob3P.value\n",
    "eps3 = 2*mu3P"
   ]
  },
  {
   "cell_type": "code",
   "execution_count": 28,
   "metadata": {},
   "outputs": [
    {
     "name": "stdout",
     "output_type": "stream",
     "text": [
      "Least epsilon for which the depolarizing channel is epsilon degradable\n",
      "Using the SDP =  0.0030743301525582175\n",
      "Bound on difference between capacity and coherent information = 0.041751518313526206\n"
     ]
    }
   ],
   "source": [
    "print('Least epsilon for which the depolarizing channel is epsilon degradable')\n",
    "print('Using the SDP = ', eps3)\n",
    "print('Bound on difference between capacity and coherent information =', crp.boundFunc(eps3,dc))"
   ]
  },
  {
   "cell_type": "markdown",
   "metadata": {},
   "source": [
    "The qubit depolarizing channel is not degradable and the least value of $\\epsilon$ for which the channel is $\\epsilon$ degradable is found numerically, as demonstrated above.\n",
    "\n",
    "The channel coherent information \n",
    "\\begin{equation}\n",
    "    \\mathcal{Q}^{(1)}(\\Delta) = \\max(1 - h(p) - p \\log 3, 0),\n",
    "\\end{equation}\n",
    "along with $\\epsilon$ computed using the SDP can be used to obtain a bound,\n",
    "\n",
    "\\begin{equation}\n",
    "|\\mathcal{Q}(\\Delta) - \\mathcal{Q}^{(1)}(\\Delta)| \n",
    "    \\leq \\epsilon \\log(d_c - 1)/2 + \\epsilon \\log(d_c) + h(\\epsilon/2) + (1 + \\epsilon/2)h(2/(2+ \\epsilon)),\n",
    "\\end{equation}\n",
    "which is usually not tight, except when $p = 0$ or $p = 1$."
   ]
  }
 ],
 "metadata": {
  "kernelspec": {
   "display_name": "Python 3",
   "language": "python",
   "name": "python3"
  },
  "language_info": {
   "codemirror_mode": {
    "name": "ipython",
    "version": 3
   },
   "file_extension": ".py",
   "mimetype": "text/x-python",
   "name": "python",
   "nbconvert_exporter": "python",
   "pygments_lexer": "ipython3",
   "version": "3.8.3"
  }
 },
 "nbformat": 4,
 "nbformat_minor": 2
}
