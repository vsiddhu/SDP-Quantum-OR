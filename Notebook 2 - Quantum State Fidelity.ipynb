{
 "cells": [
  {
   "cell_type": "markdown",
   "metadata": {},
   "source": [
    "# Quantum State Fidelity"
   ]
  },
  {
   "cell_type": "markdown",
   "metadata": {},
   "source": [
    "Date : December 15, 2021\n",
    "\n",
    "This notebook contains material supporting a paper, currently titled *Five Starter Pieces: Quantum Information Science via Semi-definite Programs*, by Vikesh Siddhu (vsiddhu@protonmail.com) and Sridhar Tayur (stayur@cmu.edu). The paper is available on this **[arXiv](http://arxiv.org/abs/2112.08276)** link. The arXiv paper is released there is under the **[arXiv.org perpetual, non-exclusive license](https://arxiv.org/licenses/nonexclusive-distrib/1.0/license.html)**, and this code is released under the **[MIT license](https://opensource.org/licenses/MIT)**.\n",
    "\n",
    "This notebook depends upon various packages including [numpy](https://numpy.org/) >= 1.19.5, [picos](https://picos-api.gitlab.io/picos/index.html) >= 2.2.55, and [cvxopt](http://cvxopt.org/) >= 1.2.5.\n",
    "    \n",
    "[![Open In Colab](https://colab.research.google.com/assets/colab-badge.svg)](https://colab.research.google.com/github/vsiddhu/SDP-Quantum-OR/blob/master/Notebook%202%20-%20Quantum%20State%20Fidelity.ipynb)\n"
   ]
  },
  {
   "cell_type": "markdown",
   "metadata": {},
   "source": [
    "### Introduction\n",
    "Fidelity between two density operators $\\rho$ and $\\sigma$,\n",
    "$$ F(\\rho,\\sigma) = || \\sqrt{\\rho} \\sqrt{\\sigma}||_1,$$\n",
    "is the optimum value of the semi-definite program (SDP)"
   ]
  },
  {
   "cell_type": "markdown",
   "metadata": {},
   "source": [
    "\\begin{align}\n",
    "    \\begin{aligned}\n",
    "        \\text{maximize} \\; & \\frac{1}{2} \\; \\rm Tr(\\Lambda + \\Lambda^{\\dagger}), \\\\\n",
    "        \\text{subject to} \\; & \n",
    "        \\begin{pmatrix}\n",
    "          \\rho & \\Lambda \\\\\n",
    "          \\Lambda^{\\dagger} & \\sigma\n",
    "        \\end{pmatrix}\n",
    "        \\succeq 0, & \n",
    "    \\end{aligned}\n",
    "\\end{align}\n",
    "\n",
    "where $\\Lambda$ is a linear operator. The SDP above has a dual formulation,"
   ]
  },
  {
   "cell_type": "markdown",
   "metadata": {},
   "source": [
    "\\begin{align}\n",
    "    \\begin{aligned}\n",
    "        \\text{minimize} \\; & \\frac{1}{2} \\; \\big(  \\rm Tr(\\rho Y) +  \\rm Tr( \\sigma Z) \\big), \\\\\n",
    "        \\text{subject to} \\; & \n",
    "        \\begin{pmatrix}\n",
    "        Y & -I\\\\\n",
    "        -I & Z\n",
    "        \\end{pmatrix}\n",
    "        \\succeq 0, & \n",
    "    \\end{aligned}\n",
    "\\end{align}\n",
    "\n",
    "where $I$ is the Identity matrix. "
   ]
  },
  {
   "cell_type": "code",
   "execution_count": 3,
   "metadata": {},
   "outputs": [
    {
     "name": "stdout",
     "output_type": "stream",
     "text": [
      "Populating the interactive namespace from numpy and matplotlib\n"
     ]
    }
   ],
   "source": [
    "%pylab inline"
   ]
  },
  {
   "cell_type": "code",
   "execution_count": 4,
   "metadata": {},
   "outputs": [],
   "source": [
    "# For Google Colab use commands installing packages\n",
    "try:\n",
    "  import google.colab\n",
    "  IN_COLAB = True\n",
    "except:\n",
    "  IN_COLAB = False\n",
    "\n",
    "# Install PICOS and CVXOPT in Google Colab\n",
    "if IN_COLAB:\n",
    "    !pip install -q picos\n",
    "    !pip install -q cvxopt"
   ]
  },
  {
   "cell_type": "code",
   "execution_count": 5,
   "metadata": {},
   "outputs": [],
   "source": [
    "import picos as pic\n",
    "import cvxopt as cvx"
   ]
  },
  {
   "cell_type": "code",
   "execution_count": 6,
   "metadata": {},
   "outputs": [
    {
     "name": "stdout",
     "output_type": "stream",
     "text": [
      "Solvers supported on this installation of picos: dict_keys(['cplex', 'cvxopt', 'ecos', 'glpk', 'gurobi', 'mosek', 'mskfsn', 'scip', 'smcp'])\n"
     ]
    }
   ],
   "source": [
    "print('Solvers supported on this installation of picos:', pic.solvers.all_solvers().keys())\n"
   ]
  },
  {
   "cell_type": "code",
   "execution_count": 7,
   "metadata": {},
   "outputs": [
    {
     "name": "stdout",
     "output_type": "stream",
     "text": [
      "Solvers available to picos on this machine : ['cvxopt', 'mosek', 'mskfsn']\n"
     ]
    }
   ],
   "source": [
    "print('Solvers available to picos on this machine :', pic.solvers.available_solvers())"
   ]
  },
  {
   "cell_type": "markdown",
   "metadata": {},
   "source": [
    "### Example 1\n",
    "Fidelity $F(\\rho_2,\\sigma_2)$ between $d$-dimensional random pure state density operators $\\rho_2 = | \\psi \\rangle \\langle \\psi |$ and $\\sigma_2 = | \\phi \\rangle \\langle \\phi |$ can be computed using both the Primal and Dual SDP formulations stated at the for of this notebook.\n"
   ]
  },
  {
   "cell_type": "code",
   "execution_count": 8,
   "metadata": {},
   "outputs": [],
   "source": [
    "#Example 1\n",
    "d= 4\n",
    "\n",
    "mt1 = np.random.rand(d,1) + 1j*np.random.randn(d,1)\n",
    "mt1 = np.dot(mt1,mt1.conj().T)\n",
    "rho1 = mt1/np.trace(mt1)\n",
    "\n",
    "mt2 = np.random.rand(d,1) + 1j*np.random.randn(d,1)\n",
    "mt2 = np.dot(mt2,mt2.conj().T)\n",
    "sig1 = mt2/np.trace(mt2)\n"
   ]
  },
  {
   "cell_type": "code",
   "execution_count": 9,
   "metadata": {},
   "outputs": [],
   "source": [
    "#Primal SDP\n",
    "\n",
    "#Constants\n",
    "#----------\n",
    "rhoPic1 = pic.Constant(\"rho\", rho1)\n",
    "sigmaPic1 = pic.Constant(\"sigma\", sig1)\n",
    "\n",
    "#Variables\n",
    "#----------\n",
    "shp1 = np.shape(rho1)\n",
    "lmPic1 = pic.ComplexVariable(\"Lm\", shp1)\n",
    "\n",
    "prob1 = pic.Problem()\n",
    "    \n",
    "#Constraint\n",
    "#----------\n",
    "prob1.add_constraint(((rhoPic1 & lmPic1) // (lmPic1.H & sigmaPic1)) >> 0)\n",
    "\n",
    "#Objective\n",
    "#----------\n",
    "obj1 = pic.trace(lmPic1 + lmPic1.H)*0.5\n",
    "\n",
    "prob1.set_objective('max',obj1)\n"
   ]
  },
  {
   "cell_type": "code",
   "execution_count": 10,
   "metadata": {},
   "outputs": [
    {
     "name": "stdout",
     "output_type": "stream",
     "text": [
      "-----------------------------\n",
      "Complex Semidefinite Program\n",
      "  maximize tr(Lm + Lmᴴ)·0.5\n",
      "  over\n",
      "    4×4 complex variable Lm\n",
      "  subject to\n",
      "    [rho, Lm; Lmᴴ, sigma] ≽ 0\n",
      "-----------------------------\n"
     ]
    }
   ],
   "source": [
    "#User readable view of the problem being composed in PICOS\n",
    "print(prob1)"
   ]
  },
  {
   "cell_type": "code",
   "execution_count": 11,
   "metadata": {},
   "outputs": [
    {
     "data": {
      "text/plain": [
       "<primal feasible solution pair (claimed optimal) from cvxopt>"
      ]
     },
     "execution_count": 11,
     "metadata": {},
     "output_type": "execute_result"
    }
   ],
   "source": [
    "#Solve the problem using cvxopt as a solver\n",
    "prob1.solve(verbosity=False,solver='cvxopt')"
   ]
  },
  {
   "cell_type": "code",
   "execution_count": 12,
   "metadata": {},
   "outputs": [],
   "source": [
    "#Solver claims to have found optimal solution\n",
    "fid1 =  prob1.value"
   ]
  },
  {
   "cell_type": "code",
   "execution_count": 13,
   "metadata": {},
   "outputs": [],
   "source": [
    "#Dual SDP\n",
    "\n",
    "#Constants\n",
    "#----------\n",
    "rhoD1 = pic.Constant(\"rho\", rho1)\n",
    "sigmaD1 = pic.Constant(\"sigma\", sig1)\n",
    "\n",
    "shp1 = np.shape(rho1)\n",
    "iMat = pic.Constant('I', np.eye(shp1[0]))\n",
    "\n",
    "#Variables\n",
    "#----------\n",
    "AD = pic.HermitianVariable(\"A\", shp1)\n",
    "BD = pic.HermitianVariable(\"B\", shp1)\n",
    "\n",
    "prob1D = pic.Problem()\n",
    "    \n",
    "#Constraint\n",
    "#----------\n",
    "prob1D.add_constraint(((AD & -iMat) // (-iMat & BD)) >> 0)\n",
    "\n",
    "#Objective\n",
    "#----------\n",
    "obj1D = .5*(rhoD1 | AD).real + .5*(sigmaD1 | BD).real\n",
    "\n",
    "prob1D.set_objective('min',obj1D)"
   ]
  },
  {
   "cell_type": "code",
   "execution_count": 14,
   "metadata": {},
   "outputs": [
    {
     "name": "stdout",
     "output_type": "stream",
     "text": [
      "------------------------------------------------\n",
      "Complex Semidefinite Program\n",
      "  minimize 0.5·Re(⟨rho, A⟩) + 0.5·Re(⟨sigma, B⟩)\n",
      "  over\n",
      "    4×4 hermitian variable A, B\n",
      "  subject to\n",
      "    [A, -I; -I, B] ≽ 0\n",
      "------------------------------------------------\n"
     ]
    }
   ],
   "source": [
    "#User readable view of the problem being composed in PICOS\n",
    "print(prob1D)"
   ]
  },
  {
   "cell_type": "code",
   "execution_count": 15,
   "metadata": {},
   "outputs": [
    {
     "data": {
      "text/plain": [
       "<primal feasible solution pair (claimed optimal) from cvxopt>"
      ]
     },
     "execution_count": 15,
     "metadata": {},
     "output_type": "execute_result"
    }
   ],
   "source": [
    "#Solve the problem using mosek as a cvxopt\n",
    "prob1D.solve(verbosity=False,solver='cvxopt')"
   ]
  },
  {
   "cell_type": "code",
   "execution_count": 16,
   "metadata": {},
   "outputs": [],
   "source": [
    "#Solver claims to have found optimal solution\n",
    "fid1D =  prob1D.value\n"
   ]
  },
  {
   "cell_type": "markdown",
   "metadata": {},
   "source": [
    "$F(\\rho_2,\\sigma_2)$ between pure state density operators $\\rho_2 = | \\psi \\rangle \\langle \\psi |$ and $\\sigma_2 = | \\phi \\rangle \\langle \\phi |$ is simply given by\n",
    "\n",
    "\\begin{equation}\n",
    "F(\\rho_2,\\sigma_2) = \\sqrt{ \\rm Tr (\\rho_2 \\sigma_2) } = |\\langle \\psi | \\phi \\rangle|.\n",
    "\\end{equation}"
   ]
  },
  {
   "cell_type": "code",
   "execution_count": 17,
   "metadata": {},
   "outputs": [],
   "source": [
    "#Compute fidelity using the formula above\n",
    "fid1Alg = np.sqrt(np.trace(np.dot(rho1,sig1)).real)"
   ]
  },
  {
   "cell_type": "code",
   "execution_count": 18,
   "metadata": {},
   "outputs": [
    {
     "name": "stdout",
     "output_type": "stream",
     "text": [
      "Fidelity between two random pure states\n",
      "Using Primal SDP =  0.18015900161366682\n",
      "Using DualSDP =  0.18015900229617843\n",
      "Using Numpy 0.1801590015472587\n",
      "Maximum difference between any pair of values above = 7.489197317855911e-10\n"
     ]
    }
   ],
   "source": [
    "print('Fidelity between two random pure states')\n",
    "print('Using Primal SDP = ', fid1)\n",
    "print('Using DualSDP = ', fid1D)\n",
    "print('Using Numpy', fid1Alg)\n",
    "diffMx1 = max(abs(fid1 - fid1D),abs(fid1 - fid1Alg),abs(fid1D - fid1Alg))\n",
    "print('Maximum difference between any pair of values above =', diffMx1)    "
   ]
  },
  {
   "cell_type": "markdown",
   "metadata": {},
   "source": [
    "### Example 2\n",
    "Fidelity $F(\\rho_2,\\sigma_2)$ between a $d$-dimensional random pure state density operators $\\rho_2 = | \\psi \\rangle \\langle \\psi |$ and a random mixed state $\\sigma_2$. \n"
   ]
  },
  {
   "cell_type": "code",
   "execution_count": 19,
   "metadata": {},
   "outputs": [],
   "source": [
    "#Example 2\n",
    "\n",
    "d = 3\n",
    "\n",
    "mtE2 = np.random.rand(d,1) + 1j*np.random.randn(d,1)\n",
    "mtE2 = np.dot(mtE2,mtE2.conj().T)\n",
    "rho2 = mtE2/np.trace(mtE2)\n",
    "\n",
    "mt2E2 = np.random.rand(d,d) + 1j*np.random.randn(d,d)\n",
    "mt2E2 = np.dot(mt2E2,mt2E2.conj().T)\n",
    "sig2 = mt2E2/np.trace(mt2E2)"
   ]
  },
  {
   "cell_type": "code",
   "execution_count": 20,
   "metadata": {},
   "outputs": [],
   "source": [
    "#Primal SDP\n",
    "\n",
    "#Constants\n",
    "#----------\n",
    "rho2Pic = pic.Constant(\"rho2\", rho2)\n",
    "sigma2Pic = pic.Constant(\"sigma2\", sig2)\n",
    "\n",
    "#Variables\n",
    "#----------\n",
    "shp2 = np.shape(rho2)\n",
    "lm2Pic = pic.ComplexVariable(\"Lm2\", shp2)\n",
    "\n",
    "prob2 = pic.Problem()\n",
    "    \n",
    "#Constraint\n",
    "#----------\n",
    "prob2.add_constraint(((rho2Pic & lm2Pic) // (lm2Pic.H & sigma2Pic)) >> 0)\n",
    "\n",
    "#Objective\n",
    "#----------\n",
    "obj2 = pic.trace(lm2Pic + lm2Pic.H)*0.5\n",
    "\n",
    "prob2.set_objective('max',obj2)\n"
   ]
  },
  {
   "cell_type": "code",
   "execution_count": 21,
   "metadata": {},
   "outputs": [
    {
     "name": "stdout",
     "output_type": "stream",
     "text": [
      "---------------------------------\n",
      "Complex Semidefinite Program\n",
      "  maximize tr(Lm2 + Lm2ᴴ)·0.5\n",
      "  over\n",
      "    3×3 complex variable Lm2\n",
      "  subject to\n",
      "    [rho2, Lm2; Lm2ᴴ, sigma2] ≽ 0\n",
      "---------------------------------\n"
     ]
    }
   ],
   "source": [
    "#User readable view of the problem being composed in PICOS\n",
    "print(prob2)"
   ]
  },
  {
   "cell_type": "code",
   "execution_count": 22,
   "metadata": {},
   "outputs": [
    {
     "data": {
      "text/plain": [
       "<primal feasible solution pair (claimed optimal) from mosek>"
      ]
     },
     "execution_count": 22,
     "metadata": {},
     "output_type": "execute_result"
    }
   ],
   "source": [
    "#Solve the problem using mosek as a solver\n",
    "prob2.solve(verbosity=False,solver='mosek')"
   ]
  },
  {
   "cell_type": "code",
   "execution_count": 23,
   "metadata": {},
   "outputs": [],
   "source": [
    "#Solver claims to have found optimal solution\n",
    "fid2 =  prob2.value"
   ]
  },
  {
   "cell_type": "code",
   "execution_count": 24,
   "metadata": {},
   "outputs": [],
   "source": [
    "#Constants\n",
    "#----------\n",
    "rhoD2 = pic.Constant(\"rho2\", rho2)\n",
    "sigmaD2 = pic.Constant(\"sigma2\", sig2)\n",
    "\n",
    "shp2 = np.shape(rho2)\n",
    "iMat = pic.Constant('I', np.eye(shp2[0]))\n",
    "\n",
    "#Variables\n",
    "#----------\n",
    "A2D = pic.HermitianVariable(\"A2\", shp2)\n",
    "B2D = pic.HermitianVariable(\"B2\", shp2)\n",
    "\n",
    "prob2D = pic.Problem()\n",
    "    \n",
    "#Constraint\n",
    "#----------\n",
    "prob2D.add_constraint(((A2D & -iMat) // (-iMat & B2D)) >> 0)\n",
    "\n",
    "#Objective\n",
    "#----------\n",
    "obj2D = .5*(rhoD2 | A2D).real + .5*(sigmaD2 | B2D).real\n",
    "\n",
    "prob2D.set_objective('min',obj2D)"
   ]
  },
  {
   "cell_type": "code",
   "execution_count": 25,
   "metadata": {},
   "outputs": [
    {
     "name": "stdout",
     "output_type": "stream",
     "text": [
      "----------------------------------------------------\n",
      "Complex Semidefinite Program\n",
      "  minimize 0.5·Re(⟨rho2, A2⟩) + 0.5·Re(⟨sigma2, B2⟩)\n",
      "  over\n",
      "    3×3 hermitian variable A2, B2\n",
      "  subject to\n",
      "    [A2, -I; -I, B2] ≽ 0\n",
      "----------------------------------------------------\n"
     ]
    }
   ],
   "source": [
    "#User readable view of the problem being composed in PICOS'\n",
    "print(prob2D)"
   ]
  },
  {
   "cell_type": "code",
   "execution_count": 26,
   "metadata": {},
   "outputs": [
    {
     "data": {
      "text/plain": [
       "<primal feasible solution pair (claimed optimal) from mosek>"
      ]
     },
     "execution_count": 26,
     "metadata": {},
     "output_type": "execute_result"
    }
   ],
   "source": [
    "#Solve the problem using mosek as a solver\n",
    "prob2D.solve(verbosity=False,solver='mosek')"
   ]
  },
  {
   "cell_type": "code",
   "execution_count": 27,
   "metadata": {},
   "outputs": [],
   "source": [
    "#Solver claims to have found optimal solution\n",
    "fid2D =  prob2D.value"
   ]
  },
  {
   "cell_type": "markdown",
   "metadata": {},
   "source": [
    "$F(\\rho_3,\\sigma_3)$ between the pure state density operator $\\rho_3 = | \\psi \\rangle \\langle \\psi |$ and mixed state $\\sigma_3$ is simply given by\n",
    "\n",
    "\\begin{equation}\n",
    "F(\\rho_3,\\sigma_3) = \\sqrt{ \\langle \\psi|\\sigma_3|\\psi \\rangle} = \\sqrt{ \\rm Tr (\\rho_3 \\sigma_3) }\n",
    "\\end{equation}"
   ]
  },
  {
   "cell_type": "code",
   "execution_count": 28,
   "metadata": {},
   "outputs": [],
   "source": [
    "#Compute fidelity using the formula above\n",
    "fid2Alg = np.sqrt(np.trace(np.dot(rho2,sig2)).real)"
   ]
  },
  {
   "cell_type": "code",
   "execution_count": 29,
   "metadata": {},
   "outputs": [
    {
     "name": "stdout",
     "output_type": "stream",
     "text": [
      "Fidelity between two random states, one pure and another mixed\n",
      "Using Primal SDP =  0.40275233796048393\n",
      "Using DualSDP =  0.4028013483991454\n",
      "Using Numpy 0.40272188430512085\n",
      "Maximum difference between any pair of values above = 7.946409402453947e-05\n"
     ]
    }
   ],
   "source": [
    "print('Fidelity between two random states, one pure and another mixed')\n",
    "print('Using Primal SDP = ', fid2)\n",
    "print('Using DualSDP = ', fid2D)\n",
    "print('Using Numpy', fid2Alg)\n",
    "diffMx1 = max(abs(fid2 - fid2D),abs(fid2 - fid2Alg),abs(fid2D - fid2Alg))\n",
    "print('Maximum difference between any pair of values above =', diffMx1)"
   ]
  },
  {
   "cell_type": "markdown",
   "metadata": {},
   "source": [
    "### Example 3\n",
    "Fidelity $F(\\rho_3,\\sigma_3)$ between two $d$-dimensional random density operators $\\rho_3$ and $\\sigma_3$ is calculated using both primal and dual SDP formulations stated at the top of this notebook."
   ]
  },
  {
   "cell_type": "code",
   "execution_count": 30,
   "metadata": {},
   "outputs": [],
   "source": [
    "#Example 3 using the primal formulation\n",
    "d = 10\n",
    "\n",
    "mtE3 = np.random.rand(d,d) + 1j*np.random.randn(d,d)\n",
    "mtE3 = np.dot(mtE3,mtE3.conj().T)\n",
    "rho3 = mtE3/np.trace(mtE3)\n",
    "\n",
    "mt2E3 = np.random.rand(d,d) + 1j*np.random.randn(d,d)\n",
    "mt2E3 = np.dot(mt2E3,mt2E3.conj().T)\n",
    "sig3 = mt2E3/np.trace(mt2E3)"
   ]
  },
  {
   "cell_type": "code",
   "execution_count": 31,
   "metadata": {},
   "outputs": [],
   "source": [
    "#Constants\n",
    "#----------\n",
    "rho3Pic = pic.Constant(\"rho3\", rho3)\n",
    "sigma3Pic = pic.Constant(\"sigma3\", sig3)\n",
    "\n",
    "#Variables\n",
    "#----------\n",
    "shp3 = np.shape(rho3)\n",
    "lm3Pic = pic.ComplexVariable(\"Lm3\", shp3)\n",
    "\n",
    "prob3 = pic.Problem()\n",
    "    \n",
    "#Constraint\n",
    "#----------\n",
    "prob3.add_constraint(((rho3Pic & lm3Pic) // (lm3Pic.H & sigma3Pic)) >> 0)\n",
    "\n",
    "#Objective\n",
    "#----------\n",
    "obj3 = pic.trace(lm3Pic + lm3Pic.H)*0.5\n",
    "\n",
    "prob3.set_objective('max',obj3)"
   ]
  },
  {
   "cell_type": "code",
   "execution_count": 32,
   "metadata": {},
   "outputs": [
    {
     "name": "stdout",
     "output_type": "stream",
     "text": [
      "---------------------------------\n",
      "Complex Semidefinite Program\n",
      "  maximize tr(Lm3 + Lm3ᴴ)·0.5\n",
      "  over\n",
      "    10×10 complex variable Lm3\n",
      "  subject to\n",
      "    [rho3, Lm3; Lm3ᴴ, sigma3] ≽ 0\n",
      "---------------------------------\n"
     ]
    }
   ],
   "source": [
    "#User readable view of the problem being composed in PICOS'\n",
    "print(prob3)"
   ]
  },
  {
   "cell_type": "code",
   "execution_count": 33,
   "metadata": {},
   "outputs": [
    {
     "data": {
      "text/plain": [
       "<primal feasible solution pair (claimed optimal) from mosek>"
      ]
     },
     "execution_count": 33,
     "metadata": {},
     "output_type": "execute_result"
    }
   ],
   "source": [
    "#Solve the problem using mosek as a solver\n",
    "prob3.solve(verbosity=False,solver='mosek')"
   ]
  },
  {
   "cell_type": "code",
   "execution_count": 34,
   "metadata": {},
   "outputs": [],
   "source": [
    "#Solver claims to have found optimal solution\n",
    "fid3 =  prob3.value"
   ]
  },
  {
   "cell_type": "code",
   "execution_count": 35,
   "metadata": {},
   "outputs": [],
   "source": [
    "#Solve the same problem using the Dual Formulation"
   ]
  },
  {
   "cell_type": "code",
   "execution_count": 36,
   "metadata": {},
   "outputs": [],
   "source": [
    "#Constants\n",
    "#----------\n",
    "iMat = pic.Constant('I', np.eye(shp3[0]))\n",
    "\n",
    "#Variables\n",
    "#----------\n",
    "A3D = pic.HermitianVariable(\"A3\", shp3)\n",
    "B3D = pic.HermitianVariable(\"B3\", shp3)\n",
    "\n",
    "prob3D = pic.Problem()\n",
    "    \n",
    "#Constraint\n",
    "#----------\n",
    "prob3D.add_constraint(((A3D & -iMat) // (-iMat & B3D)) >> 0)\n",
    "\n",
    "#Objective\n",
    "#----------\n",
    "obj3D = .5*(rho3Pic | A3D).real + .5*(sigma3Pic | B3D).real\n",
    "\n",
    "prob3D.set_objective('min',obj3D)"
   ]
  },
  {
   "cell_type": "code",
   "execution_count": 37,
   "metadata": {},
   "outputs": [
    {
     "name": "stdout",
     "output_type": "stream",
     "text": [
      "----------------------------------------------------\n",
      "Complex Semidefinite Program\n",
      "  minimize 0.5·Re(⟨rho3, A3⟩) + 0.5·Re(⟨sigma3, B3⟩)\n",
      "  over\n",
      "    10×10 hermitian variable A3, B3\n",
      "  subject to\n",
      "    [A3, -I; -I, B3] ≽ 0\n",
      "----------------------------------------------------\n"
     ]
    }
   ],
   "source": [
    "#User readable view of the problem being composed in PICOS'\n",
    "print(prob3D)"
   ]
  },
  {
   "cell_type": "code",
   "execution_count": 38,
   "metadata": {},
   "outputs": [
    {
     "data": {
      "text/plain": [
       "<primal feasible solution pair (claimed optimal) from mosek>"
      ]
     },
     "execution_count": 38,
     "metadata": {},
     "output_type": "execute_result"
    }
   ],
   "source": [
    "#Solve the problem using mosek as a solver\n",
    "prob3D.solve(verbosity=False,solver='mosek')\n",
    "    "
   ]
  },
  {
   "cell_type": "code",
   "execution_count": 39,
   "metadata": {},
   "outputs": [],
   "source": [
    "#Solver claims to have found optimal solution\n",
    "fid3D =  prob3D.value"
   ]
  },
  {
   "cell_type": "markdown",
   "metadata": {},
   "source": [
    "The Fidelity between two mixed states $\\rho_3$ and $\\sigma_3$ is given by\n",
    "$$ F(\\rho_3,\\sigma_4) = || \\sqrt{\\rho_3} \\sqrt{\\sigma_3}||_1,$$\n"
   ]
  },
  {
   "cell_type": "code",
   "execution_count": 40,
   "metadata": {},
   "outputs": [],
   "source": [
    "#Calculate the Fidelity using the usual route via NumPy Libraries\n",
    "diag1,U = np.linalg.eigh(rho3)\n",
    "sqRho3 = np.dot(np.dot(U, np.diag(np.sqrt(diag1))), U.conj().T)  # Square root of rho3.\n",
    "diag2,V = np.linalg.eigh(sig3)\n",
    "sqSig3 = np.dot(np.dot(V, np.diag(np.sqrt(diag2))), V.conj().T)  # Square root of sig3.\n",
    "fid3Alg = sum(np.linalg.svd( np.dot(sqRho3, sqSig3) )[1] )  # Trace-norm of sqrt(P)·sqrt(Q).\n"
   ]
  },
  {
   "cell_type": "code",
   "execution_count": 41,
   "metadata": {},
   "outputs": [
    {
     "name": "stdout",
     "output_type": "stream",
     "text": [
      "Fidelity between two random mixed states\n",
      "Using Primal SDP =  0.7599657404167818\n",
      "Using DualSDP =  0.7599659619497257\n",
      "Using Numpy 0.7599656910322277\n",
      "Maximum difference between any pair of values above = 2.709174979909079e-07\n"
     ]
    }
   ],
   "source": [
    "print('Fidelity between two random mixed states')\n",
    "print('Using Primal SDP = ', fid3)\n",
    "print('Using DualSDP = ', fid3D)\n",
    "print('Using Numpy', fid3Alg)\n",
    "diffMx1 = max(abs(fid3 - fid3D),abs(fid3 - fid3Alg),abs(fid3D - fid3Alg))\n",
    "print('Maximum difference between any pair of values above =', diffMx1)    "
   ]
  },
  {
   "cell_type": "code",
   "execution_count": null,
   "metadata": {},
   "outputs": [],
   "source": []
  }
 ],
 "metadata": {
  "kernelspec": {
   "display_name": "Python 3",
   "language": "python",
   "name": "python3"
  },
  "language_info": {
   "codemirror_mode": {
    "name": "ipython",
    "version": 3
   },
   "file_extension": ".py",
   "mimetype": "text/x-python",
   "name": "python",
   "nbconvert_exporter": "python",
   "pygments_lexer": "ipython3",
   "version": "3.8.3"
  }
 },
 "nbformat": 4,
 "nbformat_minor": 2
}
