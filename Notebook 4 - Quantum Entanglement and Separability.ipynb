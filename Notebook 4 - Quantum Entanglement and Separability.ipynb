{
 "cells": [
  {
   "cell_type": "markdown",
   "metadata": {},
   "source": [
    "# Quantum Entanglement and Separability"
   ]
  },
  {
   "cell_type": "markdown",
   "metadata": {},
   "source": [
    "Date : December 15, 2021\n",
    "\n",
    "This notebook contains material supporting a paper, currently titled *Five Starter Pieces: Quantum Information Science via Semi-definite Programs*, by Vikesh Siddhu (vsiddhu@protonmail.com) and Sridhar Tayur (stayur@cmu.edu). The paper is available on this **[arXiv](http://arxiv.org/abs/2112.08276)** link. The arXiv paper is released there is under the **[arXiv.org perpetual, non-exclusive license](https://arxiv.org/licenses/nonexclusive-distrib/1.0/license.html)**, and this code is released under the **[MIT license](https://opensource.org/licenses/MIT)**.\n",
    "\n",
    "This notebook depends upon various packages including [numpy](https://numpy.org/) >= 1.19.5, [picos](https://picos-api.gitlab.io/picos/index.html) >= 2.2.55, and [cvxopt](http://cvxopt.org/) >= 1.2.5.\n",
    "    \n",
    "[![Open In Colab](https://colab.research.google.com/assets/colab-badge.svg)](https://colab.research.google.com/github/vsiddhu/SDPQuantumOR/blob/master/Notebook%204%20-%20Quantum%20Entanglement%20and%20Separability.ipynb)"
   ]
  },
  {
   "cell_type": "markdown",
   "metadata": {},
   "source": [
    "## Introduction\n"
   ]
  },
  {
   "cell_type": "markdown",
   "metadata": {},
   "source": [
    "By definition, a quantum state $\\rho_{ab}$ on $\\mathcal{H}_a \\otimes \\mathcal{H}_{b}$ is separable if the state can be written as a convex combination of pure states; in other words,\n",
    "$$\n",
    "\\rho_{ab1} = \\sum_i p_i|\\psi_i \\rangle \\langle \\psi_i| \\otimes |\\phi_i \\rangle \\langle \\phi_i|,\n",
    "$$\n",
    "where $p_i>0$ and $\\sum_i p_i = 1$. A state is entangled if it is not separable. \n",
    "\n",
    "A state $\\rho_{ab}$ is separable if and only if, for each $k \\geq 1$ there is a positive (under) partial transpose (PPT) symmetric extension $\\rho_{aB}$, where \n",
    "$$\\mathcal{H}_B := \\bigotimes_{j=1}^k \\mathcal{H}_{bj},$$\n",
    "and all $\\mathcal{H}_{bi}$ have same dimension as $\\mathcal{H}_b$. For each $k$, the existence of a PPT symmetric extension can be formulated as an SDP. Here we discuss SDPs coming from the cases $k=1$ and $k=2$. \n",
    "\n"
   ]
  },
  {
   "cell_type": "markdown",
   "metadata": {},
   "source": [
    "#### Case 1: SDP for $k=1$\n",
    "\n",
    "\\begin{align}\n",
    "\\begin{aligned}\n",
    "\\text{minimize} \\; & \\mu \\\\\n",
    "\\text{subject to} \\; & \\mu I_{ab} + T_{b1}(\\rho_{ab}) \\succeq 0\n",
    "\\end{aligned}\n",
    "\\end{align}\n",
    "\n",
    "If the optimal value of the SDP above is strictly positive, then $\\rho_{ab}$ does not have a PPT symmetric extension for $k=1$ and thus $\\rho_{ab}$ is entangled.\n"
   ]
  },
  {
   "cell_type": "markdown",
   "metadata": {},
   "source": [
    "#### Case 2: SDP for $k=2$\n",
    "\n",
    "To check for a PPT symmetric extension of $\\rho_{ab}$ at $k=2$, we let $\\rho_{ab1} = \\rho_{ab}$ and solve an SDP\n",
    "\n",
    "\\begin{align}\n",
    "\\begin{aligned}\n",
    "\\text{minimize} \\; & \\mu \\\\\n",
    "\\text{subject to} \\; & \\rho_{ab1} = \\rm Tr_{b2}(\\rho_{aB}) & \\\\\n",
    "& \\rho_{aB} = \\Pi_{b1b2} \\rho_{aB} \\Pi_{b1b2}, & \\\\\n",
    "& \\rm Tr(\\rho_{aB}) = 1, & \\\\\n",
    "& \\rho_{aB} + \\mu I_{aB} \\succeq 0, &\\\\\n",
    "& \\mathcal{T}_{b1}(\\rho_{aB}) + \\mu I_{aB} \\succeq 0, & \\\\\n",
    "& \\mathcal{T}_{b1 b2}(\\rho_{aB}) + \\mu I_{aB} \\succeq 0, & \\\\\n",
    "\\end{aligned}\n",
    "\\end{align}\n",
    "\n",
    "where $\\Pi_{b1b2} = I_a \\otimes S_{b1b2}$, and the swap operator $S_{b1b2}|i \\rangle_{b1} |j \\rangle_{b2} = |j \\rangle_{b1} |i \\rangle_{b2}$. If the optimal value of the SDP above is strictly positive, then $\\rho_{ab}$ does not have a PPT symmetric extension for $k=2$ and thus $\\rho_{ab}$ is entangled.\n"
   ]
  },
  {
   "cell_type": "code",
   "execution_count": 1,
   "metadata": {},
   "outputs": [
    {
     "name": "stdout",
     "output_type": "stream",
     "text": [
      "Populating the interactive namespace from numpy and matplotlib\n"
     ]
    }
   ],
   "source": [
    "%pylab inline"
   ]
  },
  {
   "cell_type": "code",
   "execution_count": 2,
   "metadata": {},
   "outputs": [],
   "source": [
    "# For Google Colab use, commands installing packages\n",
    "try:\n",
    "  import google.colab\n",
    "  IN_COLAB = True\n",
    "except:\n",
    "  IN_COLAB = False\n",
    "\n",
    "# Install PICOS and CVXOPT in Google Colab\n",
    "if IN_COLAB:\n",
    "    !pip install -q picos\n",
    "    !pip install -q cvxopt"
   ]
  },
  {
   "cell_type": "code",
   "execution_count": 3,
   "metadata": {},
   "outputs": [],
   "source": [
    "import picos as pic\n",
    "import cvxopt as cvx\n",
    "#Import functions to help formulate the SDP\n",
    "from HelperFunctionsforNotebook4 import swapLastTwoOfThreePartyState"
   ]
  },
  {
   "cell_type": "code",
   "execution_count": 4,
   "metadata": {},
   "outputs": [
    {
     "name": "stdout",
     "output_type": "stream",
     "text": [
      "Solvers supported on this installation of picos: dict_keys(['cplex', 'cvxopt', 'ecos', 'glpk', 'gurobi', 'mosek', 'mskfsn', 'scip', 'smcp'])\n"
     ]
    }
   ],
   "source": [
    "print('Solvers supported on this installation of picos:', pic.solvers.all_solvers().keys())\n"
   ]
  },
  {
   "cell_type": "code",
   "execution_count": 5,
   "metadata": {},
   "outputs": [
    {
     "name": "stdout",
     "output_type": "stream",
     "text": [
      "Solvers available to picos on this machine : ['cvxopt', 'mosek', 'mskfsn']\n"
     ]
    }
   ],
   "source": [
    "print('Solvers available to picos on this machine :', pic.solvers.available_solvers())"
   ]
  },
  {
   "cell_type": "markdown",
   "metadata": {},
   "source": [
    "### Example 1\n",
    "Given the bell state $| \\phi \\rangle = \\frac{1}{\\sqrt{2}}(|00 \\rangle + |11 \\rangle)$, check whether $\\rho_{ab} = | \\phi \\rangle \\langle \\phi |$ has a $k=1$ PPT symmetric extension."
   ]
  },
  {
   "cell_type": "code",
   "execution_count": 6,
   "metadata": {},
   "outputs": [],
   "source": [
    "#State to check separability\n",
    "phiMat = np.array([[1.,0.,0.,1.],\n",
    "                [0.,0.,0.,0.],\n",
    "                [0.,0.,0.,0.],\n",
    "                [1.,0.,0.,1.]])/2\n",
    "\n",
    "da = 2\n",
    "db1 = 2\n",
    "dB = db1"
   ]
  },
  {
   "cell_type": "code",
   "execution_count": 7,
   "metadata": {},
   "outputs": [],
   "source": [
    "#Constants\n",
    "#----------\n",
    "pMPic = pic.Constant(\"phiMat\", phiMat)\n",
    "iMatAB1 = pic.Constant('Iab1', np.eye(da*dB))\n",
    "shpAB1 = (da*dB,da*dB)\n",
    "\n",
    "#Variables\n",
    "#----------\n",
    "mu = pic.RealVariable(\"mu\")\n"
   ]
  },
  {
   "cell_type": "code",
   "execution_count": 8,
   "metadata": {},
   "outputs": [
    {
     "data": {
      "text/plain": [
       "<4×4 LMI Constraint: phiMat.{[2×2]⊗[2×2]ᵀ} + mu·Iab1 ≽ 0>"
      ]
     },
     "execution_count": 8,
     "metadata": {},
     "output_type": "execute_result"
    }
   ],
   "source": [
    "prob1P = pic.Problem()\n",
    "\n",
    "#Constraint\n",
    "#----------\n",
    "prob1P.add_constraint(pic.partial_transpose(pMPic,subsystems=(1), dimensions=(da,dB)) + mu*iMatAB1 >> 0)\n"
   ]
  },
  {
   "cell_type": "code",
   "execution_count": 9,
   "metadata": {},
   "outputs": [
    {
     "name": "stdout",
     "output_type": "stream",
     "text": [
      "---------------------------------------\n",
      "Semidefinite Program\n",
      "  minimize mu\n",
      "  over\n",
      "    1×1 real variable mu\n",
      "  subject to\n",
      "    phiMat.{[2×2]⊗[2×2]ᵀ} + mu·Iab1 ≽ 0\n",
      "---------------------------------------\n"
     ]
    }
   ],
   "source": [
    "#Objective\n",
    "#----------\n",
    "prob1P.set_objective('min',mu)\n",
    "\n",
    "#User readable view of the problem being composed in PICOS'\n",
    "print(prob1P)"
   ]
  },
  {
   "cell_type": "code",
   "execution_count": 10,
   "metadata": {},
   "outputs": [
    {
     "data": {
      "text/plain": [
       "<primal feasible solution pair (claimed optimal) from cvxopt>"
      ]
     },
     "execution_count": 10,
     "metadata": {},
     "output_type": "execute_result"
    }
   ],
   "source": [
    "#Solve the problem using cvxopt as a solver\n",
    "prob1P.solve(verbosity=False,solver='cvxopt')"
   ]
  },
  {
   "cell_type": "code",
   "execution_count": 11,
   "metadata": {},
   "outputs": [
    {
     "name": "stdout",
     "output_type": "stream",
     "text": [
      "Status at the end of solving the problem: optimal\n",
      "Least mu obtained from solving the SDP above 0.49999999985774324\n",
      "Since this SDP value is positive, the state is entangled\n"
     ]
    }
   ],
   "source": [
    "print('Status at the end of solving the problem:', prob1P.status)\n",
    "\n",
    "mu1P =  prob1P.value\n",
    "print('Least mu obtained from solving the SDP above', mu1P)\n",
    "print('Since this SDP value is positive, the state is entangled')\n"
   ]
  },
  {
   "cell_type": "markdown",
   "metadata": {},
   "source": [
    "### Example 2\n",
    "Check existence of PPT symmetric extension with $k=1$ for a two-qutrit state,\n",
    "\\begin{equation}\n",
    "\\rho_{ab} = \\frac{2}{7}|\\psi_{+}\\rangle \\langle\\psi_{+}| \n",
    "+ \\frac{\\alpha}{7} \\sigma_{+} + \\frac{5 - \\alpha}{7} S_{ab} \\sigma_{+} S_{ab},\n",
    "\\end{equation}\n",
    "where $|\\psi_+ \\rangle = \\frac{1}{\\sqrt{3}}( |00\\rangle + |11\\rangle + |22 \\rangle )$,\n",
    "$\\sigma_{+} = \\frac{1}{3} (|01 \\rangle \\langle 01| + |12 \\rangle \\langle 12|\n",
    "+ |20 \\rangle \\langle 20|)$, $S_{ab}$ is the swap operator, and $0 \\leq \\alpha \\leq 5/2$, \n"
   ]
  },
  {
   "cell_type": "code",
   "execution_count": 12,
   "metadata": {},
   "outputs": [],
   "source": [
    "da = 3\n",
    "db1 = 3\n",
    "dB = db1\n",
    "\n",
    "#Construct input state\n",
    "idMat = np.eye(da*db1)\n",
    "psiP = idMat[0] + idMat[4] + idMat[8]\n",
    "psiP = np.outer(psiP,psiP)\n",
    "psiP = psiP/np.trace(psiP)\n",
    "\n",
    "sigPlus = np.outer(idMat[1],idMat[1]) + np.outer(idMat[5],idMat[5]) + np.outer(idMat[6],idMat[6])\n",
    "sigPlus = sigPlus/np.trace(sigPlus)\n",
    "sigPlusEx = np.outer(idMat[3],idMat[3]) + np.outer(idMat[7],idMat[7]) + np.outer(idMat[2],idMat[2])\n",
    "sigPlusEx = sigPlusEx/np.trace(sigPlusEx)\n",
    "\n",
    "al = 0.75\n",
    "rhoMat = (2/7)*psiP + (al/7)*sigPlus + ((5-al)/7)*sigPlusEx"
   ]
  },
  {
   "cell_type": "code",
   "execution_count": 13,
   "metadata": {},
   "outputs": [],
   "source": [
    "#Constants\n",
    "#----------\n",
    "pMPic = pic.Constant(\"rhoAl\", rhoMat)\n",
    "iMatAB = pic.Constant('Iab1', np.eye(da*dB))\n",
    "shpAB = (da*dB,da*dB)\n",
    "\n",
    "#Variables\n",
    "#----------\n",
    "mu = pic.RealVariable(\"mu\")"
   ]
  },
  {
   "cell_type": "code",
   "execution_count": 14,
   "metadata": {},
   "outputs": [
    {
     "data": {
      "text/plain": [
       "<9×9 LMI Constraint: rhoAl.{[3×3]⊗[3×3]ᵀ} + mu·Iab1 ≽ 0>"
      ]
     },
     "execution_count": 14,
     "metadata": {},
     "output_type": "execute_result"
    }
   ],
   "source": [
    "prob2P = pic.Problem()\n",
    "\n",
    "#Constraint\n",
    "#----------\n",
    "prob2P.add_constraint(pic.partial_transpose(pMPic,subsystems=(1), dimensions=(da,dB)) + mu*iMatAB >> 0)\n"
   ]
  },
  {
   "cell_type": "code",
   "execution_count": 15,
   "metadata": {},
   "outputs": [
    {
     "name": "stdout",
     "output_type": "stream",
     "text": [
      "--------------------------------------\n",
      "Semidefinite Program\n",
      "  minimize mu\n",
      "  over\n",
      "    1×1 real variable mu\n",
      "  subject to\n",
      "    rhoAl.{[3×3]⊗[3×3]ᵀ} + mu·Iab1 ≽ 0\n",
      "--------------------------------------\n"
     ]
    }
   ],
   "source": [
    "#Objective\n",
    "#----------\n",
    "prob2P.set_objective('min',mu)\n",
    "\n",
    "#User readable view of the problem being composed in PICOS'\n",
    "print(prob2P)"
   ]
  },
  {
   "cell_type": "code",
   "execution_count": 16,
   "metadata": {},
   "outputs": [
    {
     "data": {
      "text/plain": [
       "<primal feasible solution pair (claimed optimal) from cvxopt>"
      ]
     },
     "execution_count": 16,
     "metadata": {},
     "output_type": "execute_result"
    }
   ],
   "source": [
    "#Solve the problem using cvxopt as a solver\n",
    "prob2P.solve(verbosity=False,solver='cvxopt')"
   ]
  },
  {
   "cell_type": "code",
   "execution_count": 17,
   "metadata": {},
   "outputs": [
    {
     "name": "stdout",
     "output_type": "stream",
     "text": [
      "Status at the end of solving the problem: optimal\n",
      "The input state paramter alpha is 0.75\n",
      "Least mu obtained from solving the SDP above is 0.007501735821370089\n"
     ]
    }
   ],
   "source": [
    "print('Status at the end of solving the problem:', prob2P.status)\n",
    "mu2P =  prob2P.value\n",
    "\n",
    "\n",
    "print('The input state paramter alpha is', al)\n",
    "print('Least mu obtained from solving the SDP above is', mu2P)"
   ]
  },
  {
   "cell_type": "markdown",
   "metadata": {},
   "source": [
    "The value of the SDP above depends on the parameter $\\alpha$. When $\\alpha < 1$, $\\rho_{ab}$ has no PPT symmetric extension for $k \\geq 1$, and hence the SDP value is strictly positive. \n"
   ]
  },
  {
   "cell_type": "markdown",
   "metadata": {},
   "source": [
    "### Example 3\n",
    "Check for existence of $k=2$ PPT symmetric extension for the state defined in Example 1."
   ]
  },
  {
   "cell_type": "code",
   "execution_count": 18,
   "metadata": {},
   "outputs": [],
   "source": [
    "#State to check separability\n",
    "phiMat = np.array([[1.,0.,0.,1.],\n",
    "                [0.,0.,0.,0.],\n",
    "                [0.,0.,0.,0.],\n",
    "                [1.,0.,0.,1.]])/2\n",
    "\n",
    "da = 2\n",
    "db = 2\n",
    "db1 = db\n",
    "db2 = db\n",
    "dB = db1*db2"
   ]
  },
  {
   "cell_type": "code",
   "execution_count": 19,
   "metadata": {},
   "outputs": [],
   "source": [
    "#Constants\n",
    "#----------\n",
    "pMPic = pic.Constant(\"phiMat\", phiMat)\n",
    "iMatAB = pic.Constant('IaB', np.eye(da*dB))\n",
    "shpAB = (da*dB,da*dB)\n",
    "shpAbis = (da,db1,db2)\n",
    "\n",
    "#Variables\n",
    "#----------\n",
    "mu = pic.RealVariable(\"mu\")\n",
    "ZPic = pic.HermitianVariable(\"ZaB\", shpAB)"
   ]
  },
  {
   "cell_type": "code",
   "execution_count": 20,
   "metadata": {},
   "outputs": [
    {
     "data": {
      "text/plain": [
       "<8×8 Complex LMI Constraint: ZaB.{[2×2]⊗[2×2]ᵀ⊗[2×2]ᵀ} + mu·IaB ≽ 0>"
      ]
     },
     "execution_count": 20,
     "metadata": {},
     "output_type": "execute_result"
    }
   ],
   "source": [
    "prob3P = pic.Problem()\n",
    "\n",
    "#Constraint\n",
    "#----------\n",
    "#Partial Trace returns the original state\n",
    "prob3P.add_constraint(pic.partial_trace(ZPic, subsystems=(2),dimensions=shpAbis) == pMPic)\n",
    "#Swapping b1 and b2 spaces leaves the state invariant\n",
    "prob3P.add_constraint(swapLastTwoOfThreePartyState(ZPic,da,db) == ZPic)\n",
    "\n",
    "prob3P.add_constraint(pic.trace(ZPic) == 1)\n",
    "prob3P.add_constraint(ZPic + mu*iMatAB >> 0)\n",
    "\n",
    "#Partial Transpose constraints for transpose on b1 and b2 spaces\n",
    "prob3P.add_constraint(pic.partial_transpose(ZPic,subsystems=(1), dimensions=shpAbis)  + mu*iMatAB >> 0)\n",
    "prob3P.add_constraint(pic.partial_transpose(ZPic,subsystems=(1,2), dimensions=shpAbis) + mu*iMatAB >> 0)\n",
    "\n",
    "\n",
    "\n"
   ]
  },
  {
   "cell_type": "code",
   "execution_count": 21,
   "metadata": {},
   "outputs": [
    {
     "name": "stdout",
     "output_type": "stream",
     "text": [
      "----------------------------------------------\n",
      "Complex Semidefinite Program\n",
      "  minimize mu\n",
      "  over\n",
      "    8×8 hermitian variable ZaB\n",
      "    1×1 real variable mu\n",
      "  subject to\n",
      "    ZaB.{[2×2]⊗[2×2]⊗tr([2×2])} = phiMat\n",
      "    ZaB = shuffled(ZaB,ikjlnm,(2,2,2,2,2,2),C)\n",
      "    tr(ZaB) = 1\n",
      "    ZaB + mu·IaB ≽ 0\n",
      "    ZaB.{[2×2]⊗[2×2]ᵀ⊗[2×2]} + mu·IaB ≽ 0\n",
      "    ZaB.{[2×2]⊗[2×2]ᵀ⊗[2×2]ᵀ} + mu·IaB ≽ 0\n",
      "----------------------------------------------\n"
     ]
    }
   ],
   "source": [
    "#Objective\n",
    "#----------\n",
    "prob3P.set_objective('min',mu)\n",
    "\n",
    "#User readable view of the problem being composed in PICOS'\n",
    "print(prob3P)"
   ]
  },
  {
   "cell_type": "code",
   "execution_count": 22,
   "metadata": {},
   "outputs": [
    {
     "data": {
      "text/plain": [
       "<primal feasible solution pair (claimed optimal) from cvxopt>"
      ]
     },
     "execution_count": 22,
     "metadata": {},
     "output_type": "execute_result"
    }
   ],
   "source": [
    "#Solve the problem using cvxopt as a solver\n",
    "prob3P.solve(verbosity=False,solver='cvxopt')"
   ]
  },
  {
   "cell_type": "code",
   "execution_count": 23,
   "metadata": {},
   "outputs": [
    {
     "name": "stdout",
     "output_type": "stream",
     "text": [
      "Status at the end of solving the problem: optimal\n",
      "Least mu obtained from solving the SDP above is 0.24999999989117092\n"
     ]
    }
   ],
   "source": [
    "print('Status at the end of solving the problem:', prob3P.status)\n",
    "\n",
    "mu3P =  prob3P.value\n",
    "\n",
    "print('Least mu obtained from solving the SDP above is', mu3P)\n"
   ]
  },
  {
   "cell_type": "markdown",
   "metadata": {},
   "source": [
    "The optimal value is found to be strictly positive. This is expected from results of Example 1, where no PPT  symmetric extension was found for $k=1$. If there is no symmetric extension for some $k$, then for $k' \\geq k$, there is no symmetric extension either. "
   ]
  },
  {
   "cell_type": "markdown",
   "metadata": {},
   "source": [
    "### Example 4\n",
    "Check for existence of $k=2$ PPT symmetric extension for the state $\\rho_{ab}$ defined in Example 2"
   ]
  },
  {
   "cell_type": "code",
   "execution_count": 24,
   "metadata": {},
   "outputs": [],
   "source": [
    "da = 3\n",
    "db = 3\n",
    "db1 = db\n",
    "db2 = db\n",
    "dB = db1*db2"
   ]
  },
  {
   "cell_type": "code",
   "execution_count": 25,
   "metadata": {},
   "outputs": [],
   "source": [
    "#Re-construct input state from Example 2\n",
    "idMat = np.eye(da*db)\n",
    "psiP = idMat[0] + idMat[4] + idMat[8]\n",
    "psiP = np.outer(psiP,psiP)\n",
    "psiP = psiP/np.trace(psiP)"
   ]
  },
  {
   "cell_type": "code",
   "execution_count": 26,
   "metadata": {},
   "outputs": [],
   "source": [
    "sigPlus = np.outer(idMat[1],idMat[1]) + np.outer(idMat[5],idMat[5]) + np.outer(idMat[6],idMat[6])\n",
    "sigPlus = sigPlus/np.trace(sigPlus)\n",
    "sigPlusEx = np.outer(idMat[3],idMat[3]) + np.outer(idMat[7],idMat[7]) + np.outer(idMat[2],idMat[2])\n",
    "sigPlusEx = sigPlusEx/np.trace(sigPlusEx)"
   ]
  },
  {
   "cell_type": "code",
   "execution_count": 27,
   "metadata": {},
   "outputs": [],
   "source": [
    "al = 1.95\n",
    "rhoMat = (2/7)*psiP + (al/7)*sigPlus + ((5-al)/7)*sigPlusEx"
   ]
  },
  {
   "cell_type": "code",
   "execution_count": 28,
   "metadata": {},
   "outputs": [],
   "source": [
    "#Constants\n",
    "#----------\n",
    "pMPic = pic.Constant(\"phiMat\", rhoMat)\n",
    "iMatAB = pic.Constant('IaB', np.eye(da*dB))\n",
    "shpAB = (da*dB,da*dB)\n",
    "shpAbi = (da,db1,db2)\n",
    "\n",
    "#Variables\n",
    "#----------\n",
    "mu = pic.RealVariable(\"mu\")\n",
    "ZPic = pic.HermitianVariable(\"ZaB\", shpAB)"
   ]
  },
  {
   "cell_type": "code",
   "execution_count": 29,
   "metadata": {},
   "outputs": [
    {
     "data": {
      "text/plain": [
       "<27×27 Complex LMI Constraint: ZaB.{[3×3]⊗[3×3]ᵀ⊗[3×3]ᵀ} + mu·IaB ≽ 0>"
      ]
     },
     "execution_count": 29,
     "metadata": {},
     "output_type": "execute_result"
    }
   ],
   "source": [
    "prob4P = pic.Problem()\n",
    "\n",
    "#Constraint\n",
    "#----------\n",
    "#Partial Trace returns the original state\n",
    "prob4P.add_constraint(pic.partial_trace(ZPic, subsystems=(2),dimensions=shpAbi) == pMPic)\n",
    "prob4P.add_constraint(swapLastTwoOfThreePartyState(ZPic,da,db) == ZPic)\n",
    "\n",
    "prob4P.add_constraint(pic.trace(ZPic) == 1)\n",
    "prob4P.add_constraint(ZPic + mu*iMatAB >> 0)\n",
    "\n",
    "# #Partial Transpose constraints for transpose on b1 and b2 spaces\n",
    "prob4P.add_constraint(pic.partial_transpose(ZPic,subsystems=(1), dimensions=shpAbi)  + mu*iMatAB >> 0)\n",
    "prob4P.add_constraint(pic.partial_transpose(ZPic,subsystems=(1,2), dimensions=shpAbi) + mu*iMatAB >> 0)"
   ]
  },
  {
   "cell_type": "code",
   "execution_count": 30,
   "metadata": {},
   "outputs": [
    {
     "name": "stdout",
     "output_type": "stream",
     "text": [
      "----------------------------------------------\n",
      "Complex Semidefinite Program\n",
      "  minimize mu\n",
      "  over\n",
      "    27×27 hermitian variable ZaB\n",
      "    1×1 real variable mu\n",
      "  subject to\n",
      "    ZaB.{[3×3]⊗[3×3]⊗tr([3×3])} = phiMat\n",
      "    ZaB = shuffled(ZaB,ikjlnm,(3,3,3,3,3,3),C)\n",
      "    tr(ZaB) = 1\n",
      "    ZaB + mu·IaB ≽ 0\n",
      "    ZaB.{[3×3]⊗[3×3]ᵀ⊗[3×3]} + mu·IaB ≽ 0\n",
      "    ZaB.{[3×3]⊗[3×3]ᵀ⊗[3×3]ᵀ} + mu·IaB ≽ 0\n",
      "----------------------------------------------\n"
     ]
    }
   ],
   "source": [
    "#Objective\n",
    "#----------\n",
    "prob4P.set_objective('min',mu)\n",
    "\n",
    "#User readable view of the problem being composed in PICOS'\n",
    "print(prob4P)"
   ]
  },
  {
   "cell_type": "code",
   "execution_count": 31,
   "metadata": {},
   "outputs": [
    {
     "data": {
      "text/plain": [
       "<primal feasible solution pair (claimed optimal) from cvxopt>"
      ]
     },
     "execution_count": 31,
     "metadata": {},
     "output_type": "execute_result"
    }
   ],
   "source": [
    "#Solve the problem using cvxopt as a solver\n",
    "prob4P.solve(verbosity=False,solver='cvxopt')"
   ]
  },
  {
   "cell_type": "code",
   "execution_count": 32,
   "metadata": {},
   "outputs": [
    {
     "name": "stdout",
     "output_type": "stream",
     "text": [
      "Status at the end of solving the problem: optimal\n",
      "The input state paramter alpha is 1.95\n",
      "Least mu obtained from solving the SDP above is 0.0003607212345043077\n"
     ]
    }
   ],
   "source": [
    "print('Status at the end of solving the problem:', prob4P.status)\n",
    "mu4P =  prob4P.value\n",
    "\n",
    "print('The input state paramter alpha is', al)\n",
    "print('Least mu obtained from solving the SDP above is', mu4P)\n"
   ]
  },
  {
   "cell_type": "markdown",
   "metadata": {},
   "source": [
    "The value of the SDP above depends on the parameter $\\alpha$. \n",
    "\n",
    "* In Example 2 we found when $\\alpha < 1$, $\\rho_{\\alpha}$ has no PPT symmetric extension for $k = 1$. Here $k=2$ and we also find no symmetric extension. This absense of a PPT symmetric extension is shown here by an optimal $k=2$ SDP value which is strictly positive.\n",
    "\n",
    "* In Example 2 we also found that $k=1$ PPT symmetric extension exists when $1 \\leq \\alpha < 2$. However, in the current case we find no PPT symmetric extension for $k=2$; that is, a postive optimal value is returned by the SDP solver. This positive value indicates that the $k=2$ SDP finds entanglement for $1 \\leq \\alpha <2$, but the $k=1$ SDP does not.\n",
    "\n",
    "* In Example 2 we found when $2 \\leq \\alpha \\leq 5/2$, there is a symmetric extension for $k=1$. In the current case we find a symmetric extension for $k=2$ as well. This symmetric extension is expected because the state $\\rho_{\\alpha}$ is separable for $2 \\leq \\alpha \\leq 5/2$.\n"
   ]
  },
  {
   "cell_type": "code",
   "execution_count": null,
   "metadata": {},
   "outputs": [],
   "source": []
  }
 ],
 "metadata": {
  "kernelspec": {
   "display_name": "Python 3",
   "language": "python",
   "name": "python3"
  },
  "language_info": {
   "codemirror_mode": {
    "name": "ipython",
    "version": 3
   },
   "file_extension": ".py",
   "mimetype": "text/x-python",
   "name": "python",
   "nbconvert_exporter": "python",
   "pygments_lexer": "ipython3",
   "version": "3.8.3"
  }
 },
 "nbformat": 4,
 "nbformat_minor": 2
}
