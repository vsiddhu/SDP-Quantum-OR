{
 "cells": [
  {
   "cell_type": "markdown",
   "metadata": {},
   "source": [
    "# Quantum Channel Discrimination"
   ]
  },
  {
   "cell_type": "markdown",
   "metadata": {},
   "source": [
    "Date : December 15, 2021\n",
    "\n",
    "This notebook contains material supporting a paper, currently titled *Five Starter Pieces: Quantum Information Science via Semi-definite Programs*, by Vikesh Siddhu (vsiddhu@protonmail.com) and Sridhar Tayur (stayur@cmu.edu). The paper is available on this **[arXiv](http://arxiv.org/abs/2112.08276)** link. The arXiv paper is released there is under the **[arXiv.org perpetual, non-exclusive license](https://arxiv.org/licenses/nonexclusive-distrib/1.0/license.html)**, and this code is released under the **[MIT license](https://opensource.org/licenses/MIT)**.\n",
    "\n",
    "This notebook depends upon various packages including [numpy](https://numpy.org/) >= 1.19.5, [picos](https://picos-api.gitlab.io/picos/index.html) >= 2.2.55, and [cvxopt](http://cvxopt.org/) >= 1.2.5.\n",
    "    \n",
    "[![Open In Colab](https://colab.research.google.com/assets/colab-badge.svg)](https://colab.research.google.com/github/vsiddhu/SDP-Quantum-OR/blob/master/Notebook%203%20-%20Quantum%20Channel%20Discrimination.ipynb)"
   ]
  },
  {
   "cell_type": "markdown",
   "metadata": {},
   "source": [
    "## Introduction\n",
    "\n",
    "The probability of correctly distinguishing two unifromly chosen quantum channels $\\mathcal{B}_1$ and $\\mathcal{B}_2$ without using entangled inputs is\n",
    "\\begin{equation}\n",
    " q = \\frac{1}{2}(1 + \\frac{1}{2} \\max_{\\rho}|| \\mathcal{B}_1(\\rho) - \\mathcal{B}_2(\\rho) ||_1)\n",
    "\\end{equation}\n",
    "and using entangled inputs is\n",
    "\\begin{equation}\n",
    "q_{E} = \\frac{1}{2}(1 + \\frac{1}{2}|| \\mathcal{B}_1 -  \\mathcal{B}_2 ||_{\\diamond}).\n",
    "\\end{equation}\n",
    "Here $||.||_{\\diamond}$ refers to the diamond norm of a linear map discussed next."
   ]
  },
  {
   "cell_type": "markdown",
   "metadata": {},
   "source": [
    "### Diamond Norm\n",
    "A linear map $\\mathcal{B}:\\hat{ \\mathcal{H}_a} \\mapsto \\hat{ \\mathcal{H}_b}$ has diamond norm\n",
    "$$\n",
    "|| \\mathcal{B} ||_{\\diamond} = \n",
    "\\max_{ ||\\rho_{aa}||_1 \\leq 1} ||\\mathcal{B} \\otimes \\mathcal{I} (\\rho_{aa})||_1\n",
    "$$\n",
    "where $\\mathcal{I}$ is the identity map on $\\hat{ \\mathcal{H}_a}$, and $||X||_1 = \\rm Tr (\\sqrt{X X^{\\dagger}})$.\n",
    "The map $\\mathcal{B}$ has a Choi-Jamiolkowski representation\n",
    "$$\n",
    "\\mathcal{J}_{ba}(\\mathcal{B}) = \\mathcal{B} \\otimes \\mathcal{I} (\\gamma)\n",
    "$$\n",
    "where $\\gamma = \\sum_{ij} | ii \\rangle \\langle  jj|$. Using this representation one can compute $|| \\mathcal{B} ||_{\\diamond}$ as the optimum value of the semi-definite program (SDP)"
   ]
  },
  {
   "cell_type": "markdown",
   "metadata": {},
   "source": [
    " \\begin{align}\n",
    " \\begin{aligned}\n",
    "   \\text{maximize} & \\;  \\frac{1}{2} \\; \\big( \\rm Tr(\\mathcal{J}_{ba}(\\mathcal{B})X) + \\rm Tr(\\mathcal{J}_{ba}(\\mathcal{B})X)^* \\big) & \\\\\n",
    "   \\text{subject to} & \\;\n",
    "  \\begin{pmatrix}\n",
    "   I_b \\otimes \\rho_a & X \\\\\n",
    "  X^{\\dagger} & I_b \\otimes \\sigma_a\n",
    "  \\end{pmatrix}\n",
    "  \\succeq 0. & \\\\\n",
    "  & \\rm Tr(\\rho_a) = 1, & \\\\\n",
    "  & \\rm Tr(\\sigma_a) = 1, & \\\\ \n",
    "  \\text{and} \\; & \\quad X \\in \\hat{\\mathcal{H}}_{ba},\n",
    "  \\end{aligned}\n",
    "  \\end{align}\n",
    "  where $I_b$ is the identity matrix on $\\mathcal{H}_b$. This SDP problem mentioned above has a dual formulation,\n",
    "\n",
    "\\begin{align}\n",
    " \\begin{aligned}\n",
    "  \\text{minimize} & \\;  \\frac{1}{2} \\big(  \\mu + \\nu \\big) & \\\\\n",
    "  \\text{subject to} & \\; \n",
    "  \\begin{pmatrix}\n",
    "  N_{ba} & -\\mathcal{J}_{ba}(\\mathcal{B})\\\\\n",
    "  -\\mathcal{J}_{ba}(\\mathcal{B})^{\\dagger} & M_{ba}\n",
    "  \\end{pmatrix}\n",
    "  \\succeq 0,\\\\\n",
    "  & \\; \\rm Tr_b (N_{ba}) \\preceq \\mu I_a \\\\\n",
    "  \\text{and} & \\; \\rm Tr_b (M_{ba}) \\preceq \\nu I_a.\n",
    "  \\end{aligned}\n",
    "  \\end{align}\n",
    "In what follows, consider various examples of this SDP. "
   ]
  },
  {
   "cell_type": "code",
   "execution_count": 2,
   "metadata": {},
   "outputs": [
    {
     "name": "stdout",
     "output_type": "stream",
     "text": [
      "Populating the interactive namespace from numpy and matplotlib\n"
     ]
    }
   ],
   "source": [
    "%pylab inline"
   ]
  },
  {
   "cell_type": "code",
   "execution_count": 3,
   "metadata": {},
   "outputs": [],
   "source": [
    "# For Google Colab use, commands installing packages\n",
    "try:\n",
    "  import google.colab\n",
    "  IN_COLAB = True\n",
    "except:\n",
    "  IN_COLAB = False\n",
    "\n",
    "# Install PICOS and CVXOPT in Google Colab\n",
    "if IN_COLAB:\n",
    "    !pip install -q picos\n",
    "    !pip install -q cvxopt"
   ]
  },
  {
   "cell_type": "code",
   "execution_count": 4,
   "metadata": {},
   "outputs": [],
   "source": [
    "import picos as pic\n",
    "import cvxopt as cvx"
   ]
  },
  {
   "cell_type": "code",
   "execution_count": 5,
   "metadata": {},
   "outputs": [
    {
     "name": "stdout",
     "output_type": "stream",
     "text": [
      "Solvers supported on this installation of picos: dict_keys(['cplex', 'cvxopt', 'ecos', 'glpk', 'gurobi', 'mosek', 'mskfsn', 'scip', 'smcp'])\n"
     ]
    }
   ],
   "source": [
    "print('Solvers supported on this installation of picos:', pic.solvers.all_solvers().keys())\n"
   ]
  },
  {
   "cell_type": "code",
   "execution_count": 6,
   "metadata": {},
   "outputs": [
    {
     "name": "stdout",
     "output_type": "stream",
     "text": [
      "Solvers available to picos on this machine : ['cvxopt', 'mosek', 'mskfsn']\n"
     ]
    }
   ],
   "source": [
    "print('Solvers available to picos on this machine :', pic.solvers.available_solvers())"
   ]
  },
  {
   "cell_type": "markdown",
   "metadata": {},
   "source": [
    "### Example 1\n",
    "Diamond norm of a qubit depolarizing channel \n",
    "\\begin{equation}\n",
    "    \\Delta(\\rho) = \\lambda \\rho + \\frac{(1-\\lambda)}{2} \\rm Tr(\\rho) I,\n",
    "\\end{equation}\n",
    " where $-1/3 \\leq \\lambda \\leq 1$. The Choi-Jamiolkowski representation of this channel is\n",
    " \\begin{equation}\n",
    " \\mathcal{J}_{ba}(\\Delta) = \n",
    " \\begin{pmatrix}\n",
    " (1 + \\lambda)/2 & 0 & 0 & \\lambda \\\\\n",
    " 0 & (1 - \\lambda)/2 & 0 & 0 \\\\\n",
    " 0 & 0 & (1 - \\lambda)/2 & 0 \\\\\n",
    " \\lambda & 0 & 0 & (1 + \\lambda)/2\n",
    " \\end{pmatrix}.\n",
    " \\end{equation}\n",
    " The depolarizing channel above can also be written using the parameter $p := 3(1-\\lambda)/4$ which lies between $0$ and $1$."
   ]
  },
  {
   "cell_type": "code",
   "execution_count": 7,
   "metadata": {},
   "outputs": [],
   "source": [
    "#Example 1 using the primal formulation\n",
    "\n",
    "cjMat = lambda lm : np.array([[(1. + lm)/2, 0., 0., lm],\n",
    "                    [0., (1. - lm)/2, 0., 0.],\n",
    "                    [0., 0., (1. - lm)/2, 0.],\n",
    "                    [lm, 0., 0., (1 + lm)/2]])\n",
    "\n",
    "\n",
    "p = 1\n",
    "lmVal = 1.-4.*p/3.\n",
    "da = 2\n",
    "db = 2\n",
    "gammaBA = cjMat(lmVal)"
   ]
  },
  {
   "cell_type": "code",
   "execution_count": 8,
   "metadata": {},
   "outputs": [],
   "source": [
    "#Constants\n",
    "#----------\n",
    "gammaPic = pic.Constant(\"gammaBA\", gammaBA)\n",
    "shpBA = np.shape( gammaBA )\n",
    "shpB = np.shape(pic.partial_trace(gammaPic, subsystems=(1),dimensions=2))\n",
    "shpA = np.shape(pic.partial_trace(gammaPic, subsystems=(0),dimensions=2))\n",
    "iMatB = pic.Constant('Ib', np.eye(shpB[0]))\n",
    "\n",
    "#Variables\n",
    "#----------\n",
    "rhoPic = pic.HermitianVariable(\"rhoA\", shpA)\n",
    "sigPic = pic.HermitianVariable(\"sigA\", shpB)\n",
    "XPic = pic.ComplexVariable(\"X\", shpBA)"
   ]
  },
  {
   "cell_type": "code",
   "execution_count": 9,
   "metadata": {},
   "outputs": [],
   "source": [
    "prob1P = pic.Problem()\n",
    "    \n",
    "#Constraint\n",
    "#----------\n",
    "prob1P.add_constraint(((iMatB @ rhoPic  & XPic) // (XPic.H & iMatB @ sigPic)) >> 0)\n",
    "prob1P.add_constraint(pic.trace(rhoPic) == 1)\n",
    "prob1P.add_constraint(pic.trace(sigPic) == 1)\n",
    "\n",
    "#Objective\n",
    "#----------\n",
    "obj = pic.trace(gammaPic | XPic).real\n",
    "\n",
    "prob1P.set_objective('max',obj)\n"
   ]
  },
  {
   "cell_type": "code",
   "execution_count": 10,
   "metadata": {},
   "outputs": [
    {
     "name": "stdout",
     "output_type": "stream",
     "text": [
      "-------------------------------------\n",
      "Complex Semidefinite Program\n",
      "  maximize Re(⟨gammaBA, X⟩)\n",
      "  over\n",
      "    4×4 complex variable X\n",
      "    2×2 hermitian variable rhoA, sigA\n",
      "  subject to\n",
      "    [Ib⊗rhoA, X; Xᴴ, Ib⊗sigA] ≽ 0\n",
      "    tr(rhoA) = 1\n",
      "    tr(sigA) = 1\n",
      "-------------------------------------\n"
     ]
    }
   ],
   "source": [
    "#User readable view of the problem being composed in PICOS'\n",
    "print(prob1P)"
   ]
  },
  {
   "cell_type": "code",
   "execution_count": 11,
   "metadata": {},
   "outputs": [
    {
     "data": {
      "text/plain": [
       "<primal feasible solution pair (claimed optimal) from cvxopt>"
      ]
     },
     "execution_count": 11,
     "metadata": {},
     "output_type": "execute_result"
    }
   ],
   "source": [
    "#Solve the problem using cvxopt as a solver\n",
    "prob1P.solve(verbosity=False,solver='cvxopt')"
   ]
  },
  {
   "cell_type": "code",
   "execution_count": 12,
   "metadata": {},
   "outputs": [],
   "source": [
    "#Solver claims to have found optimal solution\n",
    "dNorm1P =  prob1P.value"
   ]
  },
  {
   "cell_type": "code",
   "execution_count": 13,
   "metadata": {},
   "outputs": [],
   "source": [
    "#Example 1 Dual Formulation\n",
    "#Constants\n",
    "#----------\n",
    "iMatA = pic.Constant('Ia', np.eye(shpA[0]))\n",
    "\n",
    "#Variables\n",
    "#----------\n",
    "NPicBA = pic.HermitianVariable(\"Nba\", shpBA)\n",
    "MPicBA = pic.HermitianVariable(\"Mba\", shpBA)\n",
    "mu = pic.RealVariable(\"mu\")\n",
    "nu = pic.RealVariable(\"nu\")\n"
   ]
  },
  {
   "cell_type": "code",
   "execution_count": 14,
   "metadata": {},
   "outputs": [],
   "source": [
    "prob1D = pic.Problem()\n",
    "    \n",
    "#Constraint\n",
    "#----------\n",
    "prob1D.add_constraint(((NPicBA & -gammaPic) // (-gammaPic.H & MPicBA)) >> 0)\n",
    "\n",
    "NPicA = pic.partial_trace(NPicBA,subsystems=(0),dimensions=2)\n",
    "MPicA = pic.partial_trace(MPicBA,subsystems=(0),dimensions=2)\n",
    "\n",
    "prob1D.add_constraint(MPicA<<mu*iMatA)\n",
    "prob1D.add_constraint(NPicA<<nu*iMatA)\n",
    "\n",
    "#Objective\n",
    "#----------\n",
    "obj = (mu + nu)/2\n",
    "\n",
    "prob1D.set_objective('min',obj)\n"
   ]
  },
  {
   "cell_type": "code",
   "execution_count": 15,
   "metadata": {},
   "outputs": [
    {
     "name": "stdout",
     "output_type": "stream",
     "text": [
      "---------------------------------------\n",
      "Complex Semidefinite Program\n",
      "  minimize (mu + nu)/2\n",
      "  over\n",
      "    4×4 hermitian variable Mba, Nba\n",
      "    1×1 real variable mu, nu\n",
      "  subject to\n",
      "    [Nba, -gammaBA; -gammaBAᵀ, Mba] ≽ 0\n",
      "    Mba.{tr([2×2])⊗[2×2]} ≼ mu·Ia\n",
      "    Nba.{tr([2×2])⊗[2×2]} ≼ nu·Ia\n",
      "---------------------------------------\n"
     ]
    }
   ],
   "source": [
    "#User readable view of the problem being composed in PICOS'\n",
    "print(prob1D)"
   ]
  },
  {
   "cell_type": "code",
   "execution_count": 16,
   "metadata": {},
   "outputs": [
    {
     "data": {
      "text/plain": [
       "<primal feasible solution pair (claimed optimal) from cvxopt>"
      ]
     },
     "execution_count": 16,
     "metadata": {},
     "output_type": "execute_result"
    }
   ],
   "source": [
    "#Solve the problem using mosek as a cvxopt\n",
    "prob1D.solve(verbosity=False,solver='cvxopt')\n",
    "    "
   ]
  },
  {
   "cell_type": "code",
   "execution_count": 17,
   "metadata": {},
   "outputs": [],
   "source": [
    "#Solver claims to have found optimal solution\n",
    "dNorm1D =  prob1D.value"
   ]
  },
  {
   "cell_type": "code",
   "execution_count": 18,
   "metadata": {},
   "outputs": [
    {
     "name": "stdout",
     "output_type": "stream",
     "text": [
      "Diamond Norm of a Depolarizing Channel\n",
      "Using Primal SDP =  0.9999999999206617\n",
      "Using DualSDP =  0.9999999999718845\n",
      "Actual Value 1.0\n",
      "Difference between algebraic and primal numeric 7.933831369655309e-11\n",
      "Difference between algebraic and dual numeric 2.811550992021239e-11\n"
     ]
    }
   ],
   "source": [
    "dNorm1Alg = 1.0\n",
    "\n",
    "print('Diamond Norm of a Depolarizing Channel')\n",
    "print('Using Primal SDP = ', dNorm1P)\n",
    "print('Using DualSDP = ', dNorm1D)\n",
    "print('Actual Value', dNorm1Alg)\n",
    "print('Difference between algebraic and primal numeric', abs(dNorm1Alg - dNorm1P))\n",
    "print('Difference between algebraic and dual numeric', abs(dNorm1Alg - dNorm1D))"
   ]
  },
  {
   "cell_type": "markdown",
   "metadata": {},
   "source": [
    "* As mentioned in Sec. 6, any quantum channel (completely positive trace preserving map) $\\mathcal{B}$ has a diamond norm $|| \\mathcal{B}||_{\\diamond} = 1$. The numerics above simply confirm this fact in the case of a qubit depolarizing channel. In what follows we discuss the advantage of using entanglement to distinguish quantum channels."
   ]
  },
  {
   "cell_type": "markdown",
   "metadata": {},
   "source": [
    "### Example 2: Distinguishing Depolarizing from Identity\n",
    "\n",
    "In the introduction state at the top of this notebook, let $\\mathcal{B}_1$ be the qubit identity channel $\\mathcal{I}$ and $\\mathcal{B}_2$ be the qubit depolarizing channel\n",
    "\\begin{equation}\n",
    "    \\Delta(\\rho) = \\lambda \\rho + \\frac{(1-\\lambda)}{2} \\rm Tr(\\rho) I,\n",
    "\\end{equation}\n",
    "where $-1/3 \\leq \\lambda \\leq 1$."
   ]
  },
  {
   "cell_type": "code",
   "execution_count": 19,
   "metadata": {},
   "outputs": [],
   "source": [
    "#Example 2. Using the primal formulation\n",
    "upsBA = cjMat(1)\n",
    "\n",
    "lmVal = -1/3\n",
    "thetaBA = cjMat(lmVal)\n",
    "\n",
    "gamma2BA = upsBA - thetaBA"
   ]
  },
  {
   "cell_type": "code",
   "execution_count": 20,
   "metadata": {},
   "outputs": [],
   "source": [
    "#Primal SDP\n",
    "#Constants\n",
    "#----------\n",
    "gamma2Pic = pic.Constant(\"gamma2BA\", gamma2BA)\n",
    "\n",
    "shpBA = np.shape( gamma2Pic )\n",
    "shpB = np.shape(pic.partial_trace(gamma2Pic, subsystems=(1),dimensions=2))\n",
    "shpA = np.shape(pic.partial_trace(gamma2Pic, subsystems=(0),dimensions=2))\n",
    "iMatB = pic.Constant('Ib', np.eye(shpB[0]))\n",
    "\n",
    "#Variables\n",
    "#----------\n",
    "rhoPic = pic.HermitianVariable(\"rhoA\", shpA)\n",
    "sigPic = pic.HermitianVariable(\"sigA\", shpA)\n",
    "XPic = pic.ComplexVariable(\"X\", shpBA)\n",
    "\n",
    "\n",
    "prob2P = pic.Problem()\n",
    "    \n",
    "#Constraint\n",
    "#----------\n",
    "prob2P.add_constraint(((iMatB @ rhoPic & XPic ) // (XPic.H & iMatB @ sigPic)) >> 0)\n",
    "prob2P.add_constraint(pic.trace(rhoPic) == 1)\n",
    "prob2P.add_constraint(pic.trace(sigPic) == 1)\n",
    "\n",
    "#Objective\n",
    "#----------\n",
    "obj = pic.trace(gamma2Pic | XPic).real\n",
    "\n",
    "prob2P.set_objective('max',obj)\n"
   ]
  },
  {
   "cell_type": "code",
   "execution_count": 21,
   "metadata": {},
   "outputs": [
    {
     "name": "stdout",
     "output_type": "stream",
     "text": [
      "-------------------------------------\n",
      "Complex Semidefinite Program\n",
      "  maximize Re(⟨gamma2BA, X⟩)\n",
      "  over\n",
      "    4×4 complex variable X\n",
      "    2×2 hermitian variable rhoA, sigA\n",
      "  subject to\n",
      "    [Ib⊗rhoA, X; Xᴴ, Ib⊗sigA] ≽ 0\n",
      "    tr(rhoA) = 1\n",
      "    tr(sigA) = 1\n",
      "-------------------------------------\n"
     ]
    }
   ],
   "source": [
    "#User readable view of the problem being composed in PICOS'\n",
    "print(prob2P)"
   ]
  },
  {
   "cell_type": "code",
   "execution_count": 22,
   "metadata": {},
   "outputs": [
    {
     "data": {
      "text/plain": [
       "<primal feasible solution pair (claimed optimal) from cvxopt>"
      ]
     },
     "execution_count": 22,
     "metadata": {},
     "output_type": "execute_result"
    }
   ],
   "source": [
    "#Solve the problem using mosek as a cvxopt\n",
    "prob2P.solve(verbosity=False,solver='cvxopt')\n",
    "    "
   ]
  },
  {
   "cell_type": "code",
   "execution_count": 23,
   "metadata": {},
   "outputs": [],
   "source": [
    "#Solver claims to have found optimal saolution\n",
    "dNorm2P =  prob2P.value"
   ]
  },
  {
   "cell_type": "code",
   "execution_count": 24,
   "metadata": {},
   "outputs": [],
   "source": [
    "#Example 2 Dual Formulation\n",
    "#Constants\n",
    "#----------\n",
    "iMatA = pic.Constant('Ia', np.eye(shpA[0]))\n",
    "\n",
    "#Variables\n",
    "#----------\n",
    "NPicBA = pic.HermitianVariable(\"Nba\", shpBA)\n",
    "MPicBA = pic.HermitianVariable(\"Mba\", shpBA)\n",
    "mu = pic.RealVariable(\"mu\")\n",
    "nu = pic.RealVariable(\"nu\")\n"
   ]
  },
  {
   "cell_type": "code",
   "execution_count": 25,
   "metadata": {},
   "outputs": [],
   "source": [
    "prob2D = pic.Problem()\n",
    "    \n",
    "#Constraint\n",
    "#----------\n",
    "prob2D.add_constraint(((NPicBA & -gamma2Pic) // (-gamma2Pic.H & MPicBA)) >> 0)\n",
    "\n",
    "NPicA = pic.partial_trace(NPicBA,subsystems=(0),dimensions=2)\n",
    "MPicA = pic.partial_trace(MPicBA,subsystems=(0),dimensions=2)\n",
    "\n",
    "prob2D.add_constraint(MPicA<<mu*iMatA)\n",
    "prob2D.add_constraint(NPicA<<nu*iMatA)\n",
    "\n",
    "#Objective\n",
    "#----------\n",
    "obj = (mu + nu)/2\n",
    "\n",
    "prob2D.set_objective('min',obj)\n"
   ]
  },
  {
   "cell_type": "code",
   "execution_count": 26,
   "metadata": {},
   "outputs": [
    {
     "name": "stdout",
     "output_type": "stream",
     "text": [
      "-----------------------------------------\n",
      "Complex Semidefinite Program\n",
      "  minimize (mu + nu)/2\n",
      "  over\n",
      "    4×4 hermitian variable Mba, Nba\n",
      "    1×1 real variable mu, nu\n",
      "  subject to\n",
      "    [Nba, -gamma2BA; -gamma2BAᵀ, Mba] ≽ 0\n",
      "    Mba.{tr([2×2])⊗[2×2]} ≼ mu·Ia\n",
      "    Nba.{tr([2×2])⊗[2×2]} ≼ nu·Ia\n",
      "-----------------------------------------\n"
     ]
    }
   ],
   "source": [
    "#User readable view of the problem being composed in PICOS'\n",
    "print(prob2D)\n"
   ]
  },
  {
   "cell_type": "code",
   "execution_count": 27,
   "metadata": {},
   "outputs": [
    {
     "data": {
      "text/plain": [
       "<primal feasible solution pair (claimed optimal) from cvxopt>"
      ]
     },
     "execution_count": 27,
     "metadata": {},
     "output_type": "execute_result"
    }
   ],
   "source": [
    "#Solve the problem using mosek as a cvxopt\n",
    "prob2D.solve(verbosity=False,solver='cvxopt')"
   ]
  },
  {
   "cell_type": "code",
   "execution_count": 28,
   "metadata": {},
   "outputs": [],
   "source": [
    "#Solver claims to have found optimal solution\n",
    "dNorm2D =  prob2D.value"
   ]
  },
  {
   "cell_type": "code",
   "execution_count": 29,
   "metadata": {},
   "outputs": [
    {
     "name": "stdout",
     "output_type": "stream",
     "text": [
      "Diamond Norm distance between identity and equal probability Pauli error Channel\n",
      "Using Primal SDP =  1.9999999997151092\n",
      "Using DualSDP =  1.9999999999322486\n",
      "Difference between primal and dual values 2.1713941755763244e-10\n"
     ]
    }
   ],
   "source": [
    "print('Diamond Norm distance between identity and equal probability Pauli error Channel')\n",
    "print('Using Primal SDP = ', dNorm2P)\n",
    "print('Using DualSDP = ', dNorm2D)\n",
    "print('Difference between primal and dual values', abs(dNorm2D - dNorm2P))\n"
   ]
  },
  {
   "cell_type": "code",
   "execution_count": 30,
   "metadata": {},
   "outputs": [
    {
     "name": "stdout",
     "output_type": "stream",
     "text": [
      "Probability of distinguishing with an entangled input p_E =  0.9999999999830622\n",
      "Probability of distinguishing without an entangled input p =  0.8333333333333334\n"
     ]
    }
   ],
   "source": [
    "pE = (1 + dNorm2D/2)/2\n",
    "print('Probability of distinguishing with an entangled input p_E = ', pE)\n",
    "print('Probability of distinguishing without an entangled input p = ', (3 - lmVal)/4)"
   ]
  },
  {
   "cell_type": "markdown",
   "metadata": {},
   "source": [
    "The value $p_E$ obtained above is in agreement with algebraic value $q_E^* = (7 - 3\\lambda)/8$ stated in Sec.6. This value is larger than $q = (3-\\lambda)/4$, the probability of distinguishing without entangled inputs."
   ]
  },
  {
   "cell_type": "markdown",
   "metadata": {},
   "source": [
    "### Example 3: Distinguishing Werner-Holevo channels\n",
    "\\begin{equation}\n",
    "\\mathcal{B}_1(\\rho) = \\frac{1}{d+1} \\big( \\rm Tr(\\rho) I + \\rho^T\\big), \n",
    "\\quad \\text{and} \\quad\n",
    "\\mathcal{B}_2(\\rho) = \\frac{1}{d-1} \\big( \\rm Tr(\\rho) I - \\rho^T\\big). \n",
    "\\end{equation}\n",
    "Who have Choi-Jamiolkowski representations \n",
    "\\begin{equation}\n",
    "\\mathcal{J}_{ba}(\\mathcal{B}_1) =  \\frac{1}{d+1}( I \\otimes I + S_{ba}), \n",
    "\\quad \\text{and} \\quad\n",
    "\\mathcal{J}_{ab}(\\mathcal{B}_2) = \\frac{1}{d-1}( I \\otimes I - S_{ba}), \n",
    "\\end{equation}\n",
    "resp., where $S_{ba} |i \\rangle |j \\rangle = |j \\rangle |i \\rangle$. We compute their diamond norm distance\n",
    "\n",
    "\\begin{equation}\n",
    "|| \\mathcal{B}_1 -  \\mathcal{B}_2 ||_{\\diamond},\n",
    "\\end{equation}\n",
    "\n",
    "using which the probability $q_{E} = \\frac{1}{2}(1 + \\frac{1}{2}|| \\mathcal{B}_1 -  \\mathcal{B}_2 ||_{\\diamond})$ is be computed with relative ease.\n"
   ]
  },
  {
   "cell_type": "code",
   "execution_count": 31,
   "metadata": {},
   "outputs": [],
   "source": [
    "d = 3\n",
    "iMatJoint = np.eye(d*d)\n"
   ]
  },
  {
   "cell_type": "code",
   "execution_count": 32,
   "metadata": {},
   "outputs": [],
   "source": [
    "wMatrix = np.zeros(shape=(d*d,d*d))\n",
    "for i in range(d):\n",
    "    for j in range(d):\n",
    "        k1 = i*d + j\n",
    "        k2 = j*d + i\n",
    "        wMatrix[k1,k2] = 1."
   ]
  },
  {
   "cell_type": "code",
   "execution_count": 33,
   "metadata": {},
   "outputs": [],
   "source": [
    "thBA = (iMatJoint + wMatrix)/(d+1)\n",
    "psiBA = (iMatJoint - wMatrix)/(d-1)"
   ]
  },
  {
   "cell_type": "code",
   "execution_count": 34,
   "metadata": {},
   "outputs": [],
   "source": [
    "#Example 3 using the primal formulation\n",
    "\n",
    "#Constants\n",
    "#----------\n",
    "gamma3Pic = pic.Constant(\"gammaBA\", thBA - psiBA)\n",
    "shpBA = np.shape( gamma3Pic )\n",
    "\n",
    "\n",
    "shpB = np.shape(pic.partial_trace(gamma3Pic, subsystems=(1),dimensions=d))\n",
    "shpA = np.shape(pic.partial_trace(gamma3Pic, subsystems=(0),dimensions=d))\n",
    "iMatB = pic.Constant('Ib', np.eye(shpB[0]))\n",
    "\n",
    "#Variables\n",
    "#----------\n",
    "rhoPic = pic.HermitianVariable(\"rhoA\", shpA)\n",
    "sigPic = pic.HermitianVariable(\"sigA\", shpB)\n",
    "XPic = pic.ComplexVariable(\"X\", shpBA)\n",
    "\n",
    "\n",
    "prob3P = pic.Problem()\n",
    "    \n",
    "#Constraint\n",
    "#----------\n",
    "prob3P.add_constraint(((iMatB @ rhoPic & XPic) // (XPic.H & iMatB @ sigPic)) >> 0)\n",
    "prob3P.add_constraint(pic.trace(rhoPic) == 1)\n",
    "prob3P.add_constraint(pic.trace(sigPic) == 1)\n",
    "\n",
    "#Objective\n",
    "#----------\n",
    "obj = pic.trace(gamma3Pic | XPic).real\n",
    "\n",
    "prob3P.set_objective('max',obj)"
   ]
  },
  {
   "cell_type": "code",
   "execution_count": 35,
   "metadata": {},
   "outputs": [
    {
     "name": "stdout",
     "output_type": "stream",
     "text": [
      "-------------------------------------\n",
      "Complex Semidefinite Program\n",
      "  maximize Re(⟨gammaBA, X⟩)\n",
      "  over\n",
      "    9×9 complex variable X\n",
      "    3×3 hermitian variable rhoA, sigA\n",
      "  subject to\n",
      "    [Ib⊗rhoA, X; Xᴴ, Ib⊗sigA] ≽ 0\n",
      "    tr(rhoA) = 1\n",
      "    tr(sigA) = 1\n",
      "-------------------------------------\n"
     ]
    }
   ],
   "source": [
    "#User readable view of the problem being composed in PICOS'\n",
    "print(prob3P)"
   ]
  },
  {
   "cell_type": "code",
   "execution_count": 36,
   "metadata": {},
   "outputs": [
    {
     "data": {
      "text/plain": [
       "<primal feasible solution pair (claimed optimal) from cvxopt>"
      ]
     },
     "execution_count": 36,
     "metadata": {},
     "output_type": "execute_result"
    }
   ],
   "source": [
    "#Solve the problem using mosek as a cvxopt\n",
    "prob3P.solve(verbosity=False,solver='cvxopt')"
   ]
  },
  {
   "cell_type": "code",
   "execution_count": 37,
   "metadata": {},
   "outputs": [],
   "source": [
    "#Solver claims to have found optimal solution\n",
    "dNorm3P =  prob3P.value"
   ]
  },
  {
   "cell_type": "code",
   "execution_count": 38,
   "metadata": {},
   "outputs": [],
   "source": [
    "#Example 3 Dual Formulation\n",
    "#Constants\n",
    "#----------\n",
    "iMatA = pic.Constant('Ia', np.eye(shpA[0]))\n",
    "\n",
    "#Variables\n",
    "#----------\n",
    "NPicBA = pic.HermitianVariable(\"Nba\", shpBA)\n",
    "MPicBA = pic.HermitianVariable(\"Mba\", shpBA)\n",
    "mu = pic.RealVariable(\"mu\")\n",
    "nu = pic.RealVariable(\"nu\")\n",
    "\n",
    "\n",
    "prob3D = pic.Problem()\n",
    "    \n",
    "#Constraint\n",
    "#----------\n",
    "prob3D.add_constraint(((NPicBA & -gamma3Pic) // (-gamma3Pic.H & MPicBA)) >> 0)\n",
    "\n",
    "NPicA = pic.partial_trace(NPicBA,subsystems=(0),dimensions=d)\n",
    "MPicA = pic.partial_trace(MPicBA,subsystems=(0),dimensions=d)\n",
    "\n",
    "prob3D.add_constraint(MPicA<<mu*iMatA)\n",
    "prob3D.add_constraint(NPicA<<nu*iMatA)\n",
    "\n",
    "#Objective\n",
    "#----------\n",
    "obj = (mu + nu)/2\n",
    "\n",
    "prob3D.set_objective('min',obj)"
   ]
  },
  {
   "cell_type": "code",
   "execution_count": 39,
   "metadata": {},
   "outputs": [
    {
     "name": "stdout",
     "output_type": "stream",
     "text": [
      "---------------------------------------\n",
      "Complex Semidefinite Program\n",
      "  minimize (mu + nu)/2\n",
      "  over\n",
      "    9×9 hermitian variable Mba, Nba\n",
      "    1×1 real variable mu, nu\n",
      "  subject to\n",
      "    [Nba, -gammaBA; -gammaBAᵀ, Mba] ≽ 0\n",
      "    Mba.{tr([3×3])⊗[3×3]} ≼ mu·Ia\n",
      "    Nba.{tr([3×3])⊗[3×3]} ≼ nu·Ia\n",
      "---------------------------------------\n"
     ]
    }
   ],
   "source": [
    "#User readable view of the problem being composed in PICOS'\n",
    "print(prob3D)\n"
   ]
  },
  {
   "cell_type": "code",
   "execution_count": 40,
   "metadata": {},
   "outputs": [
    {
     "data": {
      "text/plain": [
       "<primal feasible solution pair (claimed optimal) from cvxopt>"
      ]
     },
     "execution_count": 40,
     "metadata": {},
     "output_type": "execute_result"
    }
   ],
   "source": [
    "#Solve the problem using mosek as a cvxopt\n",
    "prob3D.solve(verbosity=False,solver='cvxopt')"
   ]
  },
  {
   "cell_type": "code",
   "execution_count": 41,
   "metadata": {},
   "outputs": [],
   "source": [
    "#Solver claims to have found optimal solution\n",
    "dNorm3D =  prob3D.value"
   ]
  },
  {
   "cell_type": "code",
   "execution_count": 42,
   "metadata": {},
   "outputs": [
    {
     "name": "stdout",
     "output_type": "stream",
     "text": [
      "Diamond Norm distance between identity and equal probability Pauli error Channel\n",
      "Using Primal SDP =  1.9999999997341638\n",
      "Using DualSDP =  1.9999999999261795\n",
      "Difference between primal and dual values 1.9201573664417992e-10\n"
     ]
    }
   ],
   "source": [
    "print('Diamond Norm distance between identity and equal probability Pauli error Channel')\n",
    "print('Using Primal SDP = ', dNorm3P)\n",
    "print('Using DualSDP = ', dNorm3D)\n",
    "print('Difference between primal and dual values', abs(dNorm3D - dNorm3P))\n"
   ]
  },
  {
   "cell_type": "code",
   "execution_count": 43,
   "metadata": {},
   "outputs": [
    {
     "name": "stdout",
     "output_type": "stream",
     "text": [
      "Probability of distinguishing with an entangled input p_E =  0.9999999999815449\n",
      "Probability of distinguishing without an entangled input p =  0.75\n"
     ]
    }
   ],
   "source": [
    "pE = (1 + dNorm3D/2)/2\n",
    "print('Probability of distinguishing with an entangled input p_E = ', pE)\n",
    "print('Probability of distinguishing without an entangled input p = ', .5 + 1/(d+1))"
   ]
  },
  {
   "cell_type": "markdown",
   "metadata": {},
   "source": [
    "The value $p_E$ obtained above is in agreement with algebraic value $q_E = 1$ stated in Sec.6. This value is larger than $q = \\frac{1}{2} + \\frac{1}{d+1}$, the probability of distinguishing without entangled inputs."
   ]
  }
 ],
 "metadata": {
  "kernelspec": {
   "display_name": "Python 3",
   "language": "python",
   "name": "python3"
  },
  "language_info": {
   "codemirror_mode": {
    "name": "ipython",
    "version": 3
   },
   "file_extension": ".py",
   "mimetype": "text/x-python",
   "name": "python",
   "nbconvert_exporter": "python",
   "pygments_lexer": "ipython3",
   "version": "3.8.3"
  }
 },
 "nbformat": 4,
 "nbformat_minor": 2
}
